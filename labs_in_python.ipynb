{
 "cells": [
  {
   "cell_type": "markdown",
   "metadata": {},
   "source": [
    "#### **Введение**\n",
    "\n",
    "Это ноутбук для ознакомительного занятия по обработке данных в Python при помощи Jupyter Notebook.\n",
    "\n",
    "На занятии мы разберем различные базовые вещи в Python и некоторые полезные его модули (NumPy, Pandas, Matploltib, SciPy).\n",
    "\n",
    "Если у вас есть вопросы, замечения или предложения по курсу, пожалуйста, пишите по контактам ниже:\n",
    "\n",
    "**Радивон Арина Владимировна**:\\\n",
    "[@MsRisha](https://t.me/Ms_Risha)\n",
    "\n",
    "**Мухин Андрей Анатольевич**:\\\n",
    "[@rrousan](https://t.me/rrousan)"
   ]
  },
  {
   "cell_type": "markdown",
   "metadata": {},
   "source": [
    "#### **Блок 1. Основы `Python`. Пройдемся по базе**"
   ]
  },
  {
   "cell_type": "markdown",
   "metadata": {},
   "source": [
    "Перед началом работы пройдемся по самым основным понятиям и синтаксису Python.\n",
    "\n",
    "*Обратим внимание, что для обработки данных этот блок может быть наполнен избыточно.*\\\n",
    "*Если вы хотите прямиком окунуться в обработку данных, просмотрите этот блок по диагонали и двигайтесь дальше.*\n",
    "\n",
    "Для продолжения запускайте последовательно **все** блоки кода (Shift + Enter) и решайте задачки."
   ]
  },
  {
   "cell_type": "markdown",
   "metadata": {},
   "source": [
    "**С чего начать?**\n",
    "\n",
    "Самое простое, что можно делать с Python -- это использовать его вместо калькулятора:"
   ]
  },
  {
   "cell_type": "code",
   "execution_count": 1,
   "metadata": {},
   "outputs": [
    {
     "data": {
      "text/plain": [
       "0.5"
      ]
     },
     "execution_count": 1,
     "metadata": {},
     "output_type": "execute_result"
    }
   ],
   "source": [
    "(1 + 1) / 4"
   ]
  },
  {
   "cell_type": "markdown",
   "metadata": {},
   "source": [
    "Классическим первым шагом в освоении любого языка является задача «Поприветствовать мир».\n",
    "\n",
    "Она состоит в том, чтобы написать код, который заставит компьютер вывести пользователю\n",
    "\n",
    "```python\n",
    "Hello world!\n",
    "```\n",
    "\n",
    "В Python для этого достаточно написать простую команду:"
   ]
  },
  {
   "cell_type": "code",
   "execution_count": 2,
   "metadata": {},
   "outputs": [
    {
     "name": "stdout",
     "output_type": "stream",
     "text": [
      "Hello world!\n"
     ]
    }
   ],
   "source": [
    "print('Hello world!')"
   ]
  },
  {
   "cell_type": "markdown",
   "metadata": {},
   "source": [
    "**Как выполняется код?**\n",
    "\n",
    "Python &mdash; интерпретируемый язык, в нем запуск кода осуществляется построчно, а результаты исполнения предыдущих строчек сохраняются и могут быть использованы. "
   ]
  },
  {
   "cell_type": "code",
   "execution_count": 3,
   "metadata": {},
   "outputs": [
    {
     "name": "stdout",
     "output_type": "stream",
     "text": [
      "First goes this\n",
      "Hello world!\n",
      "Then goes this\n",
      "Hello world one again!\n"
     ]
    }
   ],
   "source": [
    "print('First goes this')\n",
    "print('Hello world!')\n",
    "\n",
    "print('Then goes this')\n",
    "print('Hello world one again!')"
   ]
  },
  {
   "cell_type": "markdown",
   "metadata": {},
   "source": [
    "##### **Переменные**\n",
    "\n",
    "Первым отличием програмирования на Python от просто калькулятора является то, что мы можем записывать сложные конструкции в переменные.\\\n",
    "Переменные -- названия, которыми пользователь (вы) называет разные объекты языка для удобного к ним обращения.\n",
    "\n",
    "Это делается при помощи символа `=`.\n",
    "\n",
    "В примере ниже мы запишем результат выполнения какой-то операции в переменную `а`,\\\n",
    "затем результат выполнения другой операции в переменную `b`\\\n",
    "и выполним сложение этих двух переменных между собой и еще одним числом. "
   ]
  },
  {
   "cell_type": "code",
   "execution_count": 4,
   "metadata": {},
   "outputs": [
    {
     "data": {
      "text/plain": [
       "6.9"
      ]
     },
     "execution_count": 4,
     "metadata": {},
     "output_type": "execute_result"
    }
   ],
   "source": [
    "a = (1 + 1) / 4\n",
    "b = 13 * 0.25\n",
    "\n",
    "a + b + 3.15"
   ]
  },
  {
   "cell_type": "markdown",
   "metadata": {},
   "source": [
    "**Типы данных**\n",
    "\n",
    "Все данные в Python могут представляться разными типами:\\\n",
    "Численные данные могут быть целыми (`int`) или вещественными (`float`).\\\n",
    "Данные могут быть текстом (`str`).\\\n",
    "Данные могут быть группой из нескольких других объектов данных (`list`, `dict`, `set` и т.д.)\n",
    "\n",
    "С разными типами данных можно выполнять разные манипуляции:"
   ]
  },
  {
   "cell_type": "markdown",
   "metadata": {},
   "source": [
    "**Числа**"
   ]
  },
  {
   "cell_type": "code",
   "execution_count": null,
   "metadata": {},
   "outputs": [],
   "source": [
    "# INT\n",
    "a = 5\n",
    "print(a, type(a))\n",
    "\n",
    "# FLOAT\n",
    "b = 3.14\n",
    "print(b, type(b))\n",
    "\n",
    "print('Сумма чисел:', a + b)         \n",
    "print('Разность чисел:', a - b)      # операции с нецелыми числами иногда ошибаются на очень малое значение\n",
    "print('Произведение чисел:', a * b)  # это нормально, и связано с особенностями представления чисел в памяти компьютера\n",
    "print('Частное чисел:', a / b)\n",
    "print('Целочисленное деление, 5 // 3:', a // 3)  \n",
    "print('Остаток от деления, 5 % 3:', a % 3)\n",
    "print('Возведение в степень, 5^2:', a ** 2) # обратите внимание, не так как в других языках программирования"
   ]
  },
  {
   "cell_type": "markdown",
   "metadata": {},
   "source": [
    "**Строки**"
   ]
  },
  {
   "cell_type": "code",
   "execution_count": null,
   "metadata": {},
   "outputs": [],
   "source": [
    "c = 'some text'               # Строчки выделяются двойными(\"\") или одинарными кавычками('')\n",
    "print('Тип переменной', type(c))\n",
    "\n",
    "string1 = 'Hello'\n",
    "string2 = 'World'\n",
    "\n",
    "print(string1 + ' ' + string2) # Математических операторов для работы со строчками немного\n",
    "print(5 * string1)             # но даже они заметно облегчают жизнь."
   ]
  },
  {
   "cell_type": "markdown",
   "metadata": {},
   "source": [
    "**Списки**"
   ]
  },
  {
   "cell_type": "code",
   "execution_count": null,
   "metadata": {},
   "outputs": [],
   "source": [
    "my_list = [1, 2, 3, 4, 5]\n",
    "print(type(my_list))\n",
    "print(my_list)\n",
    "\n",
    "\n",
    "# Главное свойство списков -- доступ к его элементам\n",
    "print('Первый элемент списка', my_list[1])\n",
    "print('Элементы с 0 по 2', my_list[0:2])\n",
    "print('Элементы со 2 до конца', my_list[2:])\n",
    "\n",
    "# Элементы списка можно изменять\n",
    "my_list[0] = 0\n",
    "print(my_list)"
   ]
  },
  {
   "cell_type": "markdown",
   "metadata": {},
   "source": [
    "Кроме списков (`list`) в Python есть другие типы данных, которые представляют собой группы объектов, но сегодня мы не будем их рассматривать."
   ]
  },
  {
   "cell_type": "markdown",
   "metadata": {},
   "source": [
    "##### **Синтаксис Python, функции, условия, циклы**"
   ]
  },
  {
   "cell_type": "markdown",
   "metadata": {},
   "source": [
    "Еще одним важнейшим отличием Python от калькулятора является способность заставлять его делать более сложные операции.\n",
    "\n",
    "Главная структурная единица таких операций - функция:"
   ]
  },
  {
   "cell_type": "markdown",
   "metadata": {},
   "source": [
    "**Функции**\n",
    "\n",
    "Функции в `python` &mdash; это структуры, которые принимают в себя какие-то аргументы, затем обрабатывают\\\n",
    "их внутри себя и выдает обратно результат в соответствии с написанным кодом.\n",
    "\n",
    "Выше мы уже использовали функцию `print()`, которая принимает в себя аргумент-строку, а код внутри нее\\\n",
    "выводит этот текст пользователю.\n",
    "\n",
    "Функции бывают встроенные, а бывают самописные.\n",
    "\n",
    "Логика построения функция следующая:\n",
    "\n",
    "``` python\n",
    "def название_функции(переменная1, переменная2, ...):\n",
    "    код, который должен выполняться внутри\n",
    "    этот код использует данные, записанные в переменные строчки с def\n",
    "    return результат, который мы хотим передать на выход\n",
    "```\n",
    "\n",
    "Напишем код, который принимает число, а в ответ выдает квадрат этого числа."
   ]
  },
  {
   "cell_type": "code",
   "execution_count": 8,
   "metadata": {},
   "outputs": [],
   "source": [
    "def square(number):\n",
    "    squared_number = number ** 2\n",
    "    return squared_number"
   ]
  },
  {
   "cell_type": "code",
   "execution_count": null,
   "metadata": {},
   "outputs": [],
   "source": [
    "print(square(6))"
   ]
  },
  {
   "cell_type": "markdown",
   "metadata": {},
   "source": [
    "> *Задание. Разминочное*\\\n",
    "Допишите функцию, которая будет принимать строчку `text` и число `num`, а вернет эту же строчку, скопированную `num` раз\n",
    "```\n",
    "привет, 5 -> приветприветприветприветпривет\n",
    "```"
   ]
  },
  {
   "cell_type": "code",
   "execution_count": null,
   "metadata": {},
   "outputs": [],
   "source": [
    "def repeater(text, num):\n",
    "    # ТУТ можно писать код\n",
    "    \n",
    "    return  # А сюда нужно вписать название переменной, которую мы вернем\n",
    "\n",
    "print(repeater('привет', 5))"
   ]
  },
  {
   "cell_type": "markdown",
   "metadata": {},
   "source": [
    "<p>\n",
    "<details>\n",
    "\n",
    "<summary> Тут вариант решения, кликни, если хочешь посмотреть, но сначала попробуй самостоятельно </summary>\n",
    "\n",
    "```python\n",
    "def repeater(text, num):\n",
    "    output = text*num\n",
    "    \n",
    "    return  output\n",
    "\n",
    "print(repeater('привет', 5))\n",
    "```\n",
    "\n",
    "</details>\n",
    "</p>"
   ]
  },
  {
   "cell_type": "markdown",
   "metadata": {},
   "source": [
    "**Условия**\n",
    "\n",
    "Условные операторы &mdash; это блоки кода, задающие определенноее условие для выполнения другого кода.\n",
    "\n",
    "Если `(я голоден)`, `(я покупаю шаурму)`, еще если `(я хочу спать)`, `(я ложусь спать)`.\n",
    "\n",
    "Если `(условие)`, `(что нужно сделать)`, еще если `(другое условие)`, `(другое действие)`\n",
    "\n",
    "Общая структура такого условного кода следующая:\n",
    "``` python\n",
    "if (условие):\n",
    "    код, который нужно выполнить\n",
    "elif (другое условие):\n",
    "    код, который нужно выполнить во втором случае\n",
    "else:\n",
    "    код, который нужно выполнить, если ни один из вариантов не подошел\n",
    "```\n",
    "\n",
    "Попробуйте запустить код ниже для разных значений `c` и посмотрите, что будет выводиться."
   ]
  },
  {
   "cell_type": "code",
   "execution_count": null,
   "metadata": {},
   "outputs": [],
   "source": [
    "c = 12\n",
    "\n",
    "print('Первый блок')\n",
    "if c > 5:\n",
    "    print('Переменная c больше 5. Ее значение:', c) # отступы в Python очень важны\n",
    "                                                       # они определяют, к какому блоку кода \n",
    "                                                       # относится команда\n",
    "# блок кода с условным оператором кончается там, где заканчиваются отступы\n",
    "elif c > 10:\n",
    "    print('Переменная c больше 10. Ее значение:', c) # Этот блок кода никогда не запустится, потому \n",
    "                                                     # что elif проверяется только если верхний if не сработал.\n",
    "if c > 10:\n",
    "     print('Переменная c больше 10. Ее значение:', c) # Этот блок может запуститься, потому что другой if предполагает\n",
    "                                                      # независимую от верхних условий проверку.\n",
    "\n",
    "print('Второй блок')\n",
    "if c < 5:\n",
    "    if c < 4:                               # Условия можно вкладывать друг в друга\n",
    "        print('Переменная c меньше 4. Ее значение:', c)\n",
    "    elif c < 3:                             # Условий elif можно накладывать сколько угодно, а else -- только один.\n",
    "        print('Переменная c меньше 3. Ее значение:', c)\n",
    "    elif c < 2:\n",
    "        print('Переменная c меньше 2. Ее значение:', c)\n",
    "    else:\n",
    "        print('Что за число было загадано?')\n",
    "\n",
    "\n",
    "print('Третий блок') \n",
    "if c > 5 or c < -5:                             # Условия можно собирать в логические комбинации\n",
    "    print('Эта переменная по модулю больше 5.') # А еще можно это писать в одну строчку"
   ]
  },
  {
   "cell_type": "markdown",
   "metadata": {},
   "source": [
    "> *Задание. Трагическое.*\\\n",
    "Попробуйте написать небольшой набор условий, который даст ответ о выживании людей на Титанике.\\\n",
    "Вам даны параметры sex, age и siblings, то есть пол, возраст и число родственников на корабле.\\\n",
    "Напишите набор условий для заданных параметров и напечатайте (`print()`), выжил бы такой пассажир или нет.\n",
    "\n",
    "![titanic image](1_images/titanic.png)\n",
    "\n",
    "Это классическая задача при создании деревьев решений, которые представляют собой кучу if условий, поэтому, даже просто зная как работают if операторы мы немного приближаемся к такой популярной теме, как машинное обучение."
   ]
  },
  {
   "cell_type": "code",
   "execution_count": 12,
   "metadata": {},
   "outputs": [],
   "source": [
    "# Можете вписать свои данные\n",
    "sex = 'male'\n",
    "age = 23\n",
    "siblings = 3\n",
    "\n",
    "# А здесь напишите свой код с условиями:\n"
   ]
  },
  {
   "cell_type": "markdown",
   "metadata": {},
   "source": [
    "<p>\n",
    "<details>\n",
    "\n",
    "<summary> Тут вариант решения, кликни, если хочешь посмотреть, но сначала попробуй самостоятельно </summary>\n",
    "\n",
    "```python\n",
    "if sex == 'male':\n",
    "    if age > 9.5:\n",
    "        print('Умер')\n",
    "    else:\n",
    "        if siblings > 2.5:\n",
    "            print('Умер')\n",
    "        else:\n",
    "            print('Выжил')\n",
    "else:\n",
    "    print('Выжил')\n",
    "```\n",
    "\n",
    "</details>\n",
    "</p>"
   ]
  },
  {
   "cell_type": "markdown",
   "metadata": {},
   "source": [
    "**Циклы**"
   ]
  },
  {
   "cell_type": "markdown",
   "metadata": {},
   "source": [
    "Циклы &mdash; структуры, позволяющие многократно выполнять один и тот же код для разных условий.\\\n",
    "Два представления циклов в `python` это циклы for и циклы while.\n",
    "\n",
    "Логика циклов `for` такова:\n",
    "\n",
    "```python\n",
    "for переменная in некий массив значений:\n",
    "    код, который нужно выполнить\n",
    "```\n",
    "\n",
    "Здесь переменной будут присваиваться последовательно все значения из массива, и для них будет выполняться заданный код."
   ]
  },
  {
   "cell_type": "code",
   "execution_count": null,
   "metadata": {},
   "outputs": [],
   "source": [
    "# после слова for идет переменная, которая будет последовательно принимать значения от 0 до 9\n",
    "# в данном случае переменная называется i, но это может быть любое имя\n",
    "# range - объект python, который возвращает последовательность чисел\n",
    "# первое значение в скобках в range - начало последовательности\n",
    "# второе - конец последовательности (не включая его)\n",
    "for i in range(0, 10):\n",
    "    print(i)"
   ]
  },
  {
   "cell_type": "markdown",
   "metadata": {},
   "source": [
    "Логика циклов `while`:\n",
    "```python\n",
    "while условие, которое должно когда-то нарушиться:\n",
    "    код, который выполняется до нарушения условия\n",
    "```"
   ]
  },
  {
   "cell_type": "code",
   "execution_count": null,
   "metadata": {},
   "outputs": [],
   "source": [
    "i = 0\n",
    "while i < 10:\n",
    "    print(i)\n",
    "    i += 1"
   ]
  },
  {
   "cell_type": "markdown",
   "metadata": {},
   "source": [
    "Далее мы будем в основном пользоваться циклами for, так как они позволяют довольно просто работать с массивами."
   ]
  },
  {
   "cell_type": "code",
   "execution_count": null,
   "metadata": {},
   "outputs": [],
   "source": [
    "names = ['Bunny','Duck','Pig']\n",
    "for name in names:\n",
    "    print(name)"
   ]
  },
  {
   "cell_type": "markdown",
   "metadata": {},
   "source": [
    "Внутри циклов можно выполнять довольно сложные операции и модернизировать внешние переменные."
   ]
  },
  {
   "cell_type": "code",
   "execution_count": null,
   "metadata": {},
   "outputs": [],
   "source": [
    "numbers = [1, 2, 3, 4, 5, 6, 7, 8, 9, 10]\n",
    "sum_of_squares = 0\n",
    "for num in numbers:\n",
    "    sum_of_squares += num ** 2\n",
    "print(sum_of_squares)"
   ]
  },
  {
   "cell_type": "markdown",
   "metadata": {},
   "source": [
    "> *Задание. Математическое.*\\\n",
    "Напишите цикл, который считает факториал для заданного значения n."
   ]
  },
  {
   "cell_type": "code",
   "execution_count": 17,
   "metadata": {},
   "outputs": [],
   "source": [
    "n = 5\n",
    "\n",
    "# ВАШ КОД ЗДЕСЬ"
   ]
  },
  {
   "cell_type": "markdown",
   "metadata": {},
   "source": [
    "<p>\n",
    "<details>\n",
    "<summary>Тут вариант решения, кликни, если хочешь посмотреть, но сначала попробуй самостоятельно.</summary>\n",
    "\n",
    "```python\n",
    "factorial = 1\n",
    "for num in range(1, n+1):\n",
    "    factorial *= num\n",
    "print(factorial)\n",
    "```\n",
    "</details>\n",
    "</p>"
   ]
  },
  {
   "cell_type": "markdown",
   "metadata": {},
   "source": [
    "На этом мы заканчиваем блок с базовыми вещами и переходим к обработке данных лабораторной работы.\n",
    "\n",
    "Он состоит из коротких блоков с использованием конкретных функций конкретных модулей Python.\\\n",
    "Дальнейшее повествование не претендует на полноту, погружаться глубже вам придется самостоятельно."
   ]
  },
  {
   "cell_type": "markdown",
   "metadata": {},
   "source": [
    "#### **Блок 1.5. Модули Python.**"
   ]
  },
  {
   "cell_type": "markdown",
   "metadata": {},
   "source": [
    "\n",
    "Модули - важная часть работы с любыми данными. Модули - это блоки кода, написанные другими людьми,\\\n",
    "которые можно установить на своей машине и использовать в своем `Python`, как свои.\n",
    "\n",
    "Это огромная библиотека различных функций, методов и решений для самых разных прикладных задач,\\\n",
    "начиная с модулей для создания интерфейсов для сайтов и заканчивая функциями для расчета энергетических спектров\\\n",
    "рентгеновских двойных систем в космосе.\n",
    "\n",
    "Сегодня мы будем использовать 4 таких модуля:\n",
    "- `Pandas`: работа с таблицами, выгрузка данных из excel файлов;\n",
    "- `Matploltib`: рисование графиков;\n",
    "- `NumPy`: очень эффективная работа с массивами данных;\n",
    "\n",
    "Сначала убедимся, что все эти модули уже скачаны и установлены в нашем Python:"
   ]
  },
  {
   "cell_type": "code",
   "execution_count": 5,
   "metadata": {},
   "outputs": [
    {
     "name": "stdout",
     "output_type": "stream",
     "text": [
      "Requirement already satisfied: pandas in /mnt/d/Programms/Jupyter/NPM/Pumps/pump_env_3.12/lib/python3.12/site-packages (2.3.0)\n",
      "Requirement already satisfied: matplotlib in /mnt/d/Programms/Jupyter/NPM/Pumps/pump_env_3.12/lib/python3.12/site-packages (3.10.3)\n",
      "Requirement already satisfied: numpy in /mnt/d/Programms/Jupyter/NPM/Pumps/pump_env_3.12/lib/python3.12/site-packages (2.0.1)\n",
      "Requirement already satisfied: openpyxl in /mnt/d/Programms/Jupyter/NPM/Pumps/pump_env_3.12/lib/python3.12/site-packages (3.1.5)\n",
      "Requirement already satisfied: python-dateutil>=2.8.2 in /mnt/d/Programms/Jupyter/NPM/Pumps/pump_env_3.12/lib/python3.12/site-packages (from pandas) (2.9.0.post0)\n",
      "Requirement already satisfied: pytz>=2020.1 in /mnt/d/Programms/Jupyter/NPM/Pumps/pump_env_3.12/lib/python3.12/site-packages (from pandas) (2025.2)\n",
      "Requirement already satisfied: tzdata>=2022.7 in /mnt/d/Programms/Jupyter/NPM/Pumps/pump_env_3.12/lib/python3.12/site-packages (from pandas) (2025.2)\n",
      "Requirement already satisfied: contourpy>=1.0.1 in /mnt/d/Programms/Jupyter/NPM/Pumps/pump_env_3.12/lib/python3.12/site-packages (from matplotlib) (1.3.2)\n",
      "Requirement already satisfied: cycler>=0.10 in /mnt/d/Programms/Jupyter/NPM/Pumps/pump_env_3.12/lib/python3.12/site-packages (from matplotlib) (0.12.1)\n",
      "Requirement already satisfied: fonttools>=4.22.0 in /mnt/d/Programms/Jupyter/NPM/Pumps/pump_env_3.12/lib/python3.12/site-packages (from matplotlib) (4.58.5)\n",
      "Requirement already satisfied: kiwisolver>=1.3.1 in /mnt/d/Programms/Jupyter/NPM/Pumps/pump_env_3.12/lib/python3.12/site-packages (from matplotlib) (1.4.8)\n",
      "Requirement already satisfied: packaging>=20.0 in /mnt/d/Programms/Jupyter/NPM/Pumps/pump_env_3.12/lib/python3.12/site-packages (from matplotlib) (25.0)\n",
      "Requirement already satisfied: pillow>=8 in /mnt/d/Programms/Jupyter/NPM/Pumps/pump_env_3.12/lib/python3.12/site-packages (from matplotlib) (11.3.0)\n",
      "Requirement already satisfied: pyparsing>=2.3.1 in /mnt/d/Programms/Jupyter/NPM/Pumps/pump_env_3.12/lib/python3.12/site-packages (from matplotlib) (3.2.3)\n",
      "Requirement already satisfied: et-xmlfile in /mnt/d/Programms/Jupyter/NPM/Pumps/pump_env_3.12/lib/python3.12/site-packages (from openpyxl) (2.0.0)\n",
      "Requirement already satisfied: six>=1.5 in /mnt/d/Programms/Jupyter/NPM/Pumps/pump_env_3.12/lib/python3.12/site-packages (from python-dateutil>=2.8.2->pandas) (1.17.0)\n"
     ]
    }
   ],
   "source": [
    "!pip install pandas matplotlib numpy openpyxl"
   ]
  },
  {
   "cell_type": "markdown",
   "metadata": {},
   "source": [
    "В дальнейшем для установки и скачивания модулей для своего Python рекомендуется использовать консоль и виртуальные окружения,\\\n",
    "однако это тема для отдельного разговора на ваших парах по программированию.\n",
    "\n",
    "Сейчас включим только что скачанные модули в свой Jupyter Notebook:"
   ]
  },
  {
   "cell_type": "markdown",
   "metadata": {},
   "source": [
    "Для включения модулей в проект используются ключевые слова:\n",
    "```python\n",
    "import pandas\n",
    "```\n",
    "\n",
    "Если мы хотим в дальнейшем обращаться к функциям из этого модуля, мы должны будем писать:\n",
    "```python\n",
    "pandas.read_csv()\n",
    "```\n",
    "\n",
    "Для экономии времени и улучшения читаемости кода подгруженным модулям дают короткое имя:\n",
    "```python\n",
    "import pandas as pd\n",
    "\n",
    "pd.read_csv()\n",
    "```\n",
    "\n",
    "Можно вместо всего модуля импортировать только его часть:\n",
    "```python\n",
    "import matplotlib.pyplot as plt\n",
    "```\n",
    "\n"
   ]
  },
  {
   "cell_type": "code",
   "execution_count": 7,
   "metadata": {},
   "outputs": [],
   "source": [
    "import pandas as pd\n",
    "import numpy as np\n",
    "\n",
    "import matplotlib.pyplot as plt\n",
    "\n",
    "# Этот блок кода задает размер графиков от matplotlib\n",
    "plt.rcParams['figure.figsize'] = (12, 10)\n",
    "plt.rcParams['font.size'] = 14"
   ]
  },
  {
   "cell_type": "markdown",
   "metadata": {},
   "source": [
    "#### **Блок 2. Обработка данных счетчика Гейгера.**"
   ]
  },
  {
   "cell_type": "markdown",
   "metadata": {},
   "source": [
    "##### **`Pandas`. «У меня все данные в экселе, что делать?»**"
   ]
  },
  {
   "cell_type": "markdown",
   "metadata": {},
   "source": [
    "Для работы с данными из Excel в модуле `pandas` можно использовать функцию `read_excel()`, которая вернет таблицу с данными из эксель-файла.\n",
    "\n",
    "Кроме того, `pandas` умеет читать и другие текстовые форматы, в которых представляются таблицы, например, `.csv` файлы.\n",
    "\n",
    "Для использования этих функций в режиме по умолчания достаточно передать строку пути до нужного файла.\\\n",
    "В данном случае файлы находятся в одной папке с ноутбуком, поэтому просто указываем названием файла."
   ]
  },
  {
   "cell_type": "code",
   "execution_count": 9,
   "metadata": {},
   "outputs": [],
   "source": [
    "geiger_data = pd.read_excel('data/Exp_data_Geiger.xlsx')"
   ]
  },
  {
   "cell_type": "markdown",
   "metadata": {},
   "source": [
    "Посмотрим, как выглядят только что загруженная нами таблица:"
   ]
  },
  {
   "cell_type": "code",
   "execution_count": 10,
   "metadata": {},
   "outputs": [
    {
     "data": {
      "text/html": [
       "<div>\n",
       "<style scoped>\n",
       "    .dataframe tbody tr th:only-of-type {\n",
       "        vertical-align: middle;\n",
       "    }\n",
       "\n",
       "    .dataframe tbody tr th {\n",
       "        vertical-align: top;\n",
       "    }\n",
       "\n",
       "    .dataframe thead th {\n",
       "        text-align: right;\n",
       "    }\n",
       "</style>\n",
       "<table border=\"1\" class=\"dataframe\">\n",
       "  <thead>\n",
       "    <tr style=\"text-align: right;\">\n",
       "      <th></th>\n",
       "      <th>Exp_data</th>\n",
       "    </tr>\n",
       "  </thead>\n",
       "  <tbody>\n",
       "    <tr>\n",
       "      <th>0</th>\n",
       "      <td>0</td>\n",
       "    </tr>\n",
       "    <tr>\n",
       "      <th>1</th>\n",
       "      <td>1</td>\n",
       "    </tr>\n",
       "    <tr>\n",
       "      <th>2</th>\n",
       "      <td>2</td>\n",
       "    </tr>\n",
       "    <tr>\n",
       "      <th>3</th>\n",
       "      <td>3</td>\n",
       "    </tr>\n",
       "    <tr>\n",
       "      <th>4</th>\n",
       "      <td>0</td>\n",
       "    </tr>\n",
       "    <tr>\n",
       "      <th>...</th>\n",
       "      <td>...</td>\n",
       "    </tr>\n",
       "    <tr>\n",
       "      <th>3995</th>\n",
       "      <td>2</td>\n",
       "    </tr>\n",
       "    <tr>\n",
       "      <th>3996</th>\n",
       "      <td>1</td>\n",
       "    </tr>\n",
       "    <tr>\n",
       "      <th>3997</th>\n",
       "      <td>2</td>\n",
       "    </tr>\n",
       "    <tr>\n",
       "      <th>3998</th>\n",
       "      <td>0</td>\n",
       "    </tr>\n",
       "    <tr>\n",
       "      <th>3999</th>\n",
       "      <td>0</td>\n",
       "    </tr>\n",
       "  </tbody>\n",
       "</table>\n",
       "<p>4000 rows × 1 columns</p>\n",
       "</div>"
      ],
      "text/plain": [
       "      Exp_data\n",
       "0            0\n",
       "1            1\n",
       "2            2\n",
       "3            3\n",
       "4            0\n",
       "...        ...\n",
       "3995         2\n",
       "3996         1\n",
       "3997         2\n",
       "3998         0\n",
       "3999         0\n",
       "\n",
       "[4000 rows x 1 columns]"
      ]
     },
     "execution_count": 10,
     "metadata": {},
     "output_type": "execute_result"
    }
   ],
   "source": [
    "geiger_data"
   ]
  },
  {
   "cell_type": "markdown",
   "metadata": {},
   "source": [
    "Первый файл содержит результаты измерений счетчика Гейгера за 4000 секунд.\\\n",
    "Число отсчетов, записанное в каждую секунду, находится в столбце Exp_data. Обратимся к нему напрямую:"
   ]
  },
  {
   "cell_type": "code",
   "execution_count": 11,
   "metadata": {},
   "outputs": [
    {
     "data": {
      "text/plain": [
       "0       0\n",
       "1       1\n",
       "2       2\n",
       "3       3\n",
       "4       0\n",
       "       ..\n",
       "3995    2\n",
       "3996    1\n",
       "3997    2\n",
       "3998    0\n",
       "3999    0\n",
       "Name: Exp_data, Length: 4000, dtype: int64"
      ]
     },
     "execution_count": 11,
     "metadata": {},
     "output_type": "execute_result"
    }
   ],
   "source": [
    "geiger_data['Exp_data']"
   ]
  },
  {
   "cell_type": "markdown",
   "metadata": {},
   "source": [
    "Посмотрим, какие уникальные значения есть в этой таблице. Для этого используем функцию `unique`:"
   ]
  },
  {
   "cell_type": "code",
   "execution_count": 12,
   "metadata": {},
   "outputs": [
    {
     "data": {
      "text/plain": [
       "array([0, 1, 2, 3, 4, 5, 6, 7])"
      ]
     },
     "execution_count": 12,
     "metadata": {},
     "output_type": "execute_result"
    }
   ],
   "source": [
    "pd.unique(geiger_data['Exp_data'])"
   ]
  },
  {
   "cell_type": "markdown",
   "metadata": {},
   "source": [
    "Видим, что каждую секунду мы видим целое число отсчетов, значит данные переданы верно, и мы можем продолжать наш анализ."
   ]
  },
  {
   "cell_type": "markdown",
   "metadata": {},
   "source": [
    "##### **`Matplotlib`. Как построить красивый график.**"
   ]
  },
  {
   "cell_type": "markdown",
   "metadata": {},
   "source": [
    "Для работы с данными мощным инструментом является графическое представление.\\\n",
    "Попробуем представить наши данные в виде гистограммы: изобразим, в сколько отрезков по 1 секунде попало по N отсчетов.\n",
    "\n",
    "Для этого воспользуемся функцией `plt.hist()`."
   ]
  },
  {
   "cell_type": "code",
   "execution_count": 13,
   "metadata": {},
   "outputs": [
    {
     "data": {
      "image/png": "[encoded data removed]",
      "text/plain": [
       "<Figure size 1200x1000 with 1 Axes>"
      ]
     },
     "metadata": {},
     "output_type": "display_data"
    }
   ],
   "source": [
    "plt.hist(geiger_data['Exp_data'], bins=range(0, 10, 1))\n",
    "plt.show()"
   ]
  },
  {
   "cell_type": "markdown",
   "metadata": {},
   "source": [
    "Функция `plt.hist()` подсчитывает, сколько раз в данных встретилось значение из какого-то интервала.\\\n",
    "В нашем примере мы подсчитали, что в интервал от 0 до 1 отсчета попало примерно 1200 строк,\\\n",
    "от 1 до 2 около 1400 и т.д.\n",
    "\n",
    "Разбиение на интервалы контролируется аргументом `bins`, в который можно передать разные массивы, задающие\\\n",
    "границы интервалов.\n",
    "\n",
    "Нам, однако, необходимо сравнивать разные гистограммы друг с другом, поэтому необходимо привести значения по оси Y\\\n",
    "к нормализованным величинам вероятности обнаружить значение из интервала. Для этого добавим в функцию аргумент density:\n",
    "\n",
    "```python\n",
    "plt.hist(..., density = True)\n",
    "```\n",
    "\n",
    "Подробнее информацию про все возможные параметры при построении гистограммы можно посмотреть [здесь](https://matplotlib.org/stable/api/_as_gen/matplotlib.pyplot.hist.html)."
   ]
  },
  {
   "cell_type": "code",
   "execution_count": 14,
   "metadata": {},
   "outputs": [
    {
     "data": {
      "image/png": "[encoded data removed]",
      "text/plain": [
       "<Figure size 1200x1000 with 1 Axes>"
      ]
     },
     "metadata": {},
     "output_type": "display_data"
    }
   ],
   "source": [
    "plt.hist(geiger_data['Exp_data'], bins=range(0, 10, 1), density=True)\n",
    "plt.show()"
   ]
  },
  {
   "cell_type": "markdown",
   "metadata": {},
   "source": [
    "Работать с графиками в таком режиме удобно, но для полноты представления необходимо добавить подписи к осям и легенду графика:\n",
    "\n",
    "Для подписей и названия графика можно использовать функции `plt.xlabel()`, `plt.ylabel()` и `plt.title()`, в которые\\\n",
    "передается строка с названием.\n",
    "\n",
    "Для создания легенды необходимо сделать 2 вещи: дать название `label` графикам и вызвать функцию, которая рисует легенду\\\n",
    "`plt.legend()`.\n",
    "\n",
    "Попробуем сделать это на примере графика выше:"
   ]
  },
  {
   "cell_type": "code",
   "execution_count": 15,
   "metadata": {},
   "outputs": [
    {
     "data": {
      "image/png": "[encoded data removed]",
      "text/plain": [
       "<Figure size 1200x1000 with 1 Axes>"
      ]
     },
     "metadata": {},
     "output_type": "display_data"
    }
   ],
   "source": [
    "plt.hist(geiger_data['Exp_data'], bins=range(0, 10, 1), label='Geiger data, 1 sec', density=True)\n",
    "\n",
    "plt.xlabel('Число отсчетов')\n",
    "plt.ylabel('Доля случаев')\n",
    "\n",
    "plt.legend()\n",
    "\n",
    "plt.show()"
   ]
  },
  {
   "cell_type": "markdown",
   "metadata": {},
   "source": [
    "Следующим пунктом, нам необходимо построить такую гистограмму для интервалов большей продолжительности.\\\n",
    "Попробуем это сделать для интервала в 10 секунд при помощи модуля `NumPy`:"
   ]
  },
  {
   "cell_type": "markdown",
   "metadata": {},
   "source": [
    "##### **`NumPy`. Гоняем цифры туда-сюда.**"
   ]
  },
  {
   "cell_type": "markdown",
   "metadata": {},
   "source": [
    "Модуль `NumPy` используется для работы с массивами данных, для которых нужно проводить множество однотипных поэлементных операций.\n",
    "\n",
    "В нашем случае необходимо изначальный массив данных в 4000 строк разбить на подмассивы по 10 строк (10 секунд) и просуммировать число отсчетов в каждом из них. В результате мы получим новый массив из 400 значений для которого можно построить такую же гистограмму.\n",
    "\n",
    "Для работы с модулем `NumPy` необходимо сначала представить свои данные в виде специального типа numpy-массива: "
   ]
  },
  {
   "cell_type": "code",
   "execution_count": 16,
   "metadata": {},
   "outputs": [
    {
     "data": {
      "text/plain": [
       "array([0, 1, 2, ..., 2, 0, 0])"
      ]
     },
     "execution_count": 16,
     "metadata": {},
     "output_type": "execute_result"
    }
   ],
   "source": [
    "np_data = np.array(geiger_data['Exp_data'])\n",
    "np_data"
   ]
  },
  {
   "cell_type": "markdown",
   "metadata": {},
   "source": [
    "Теперь разделим один длинный массив элементов на маленькие подмассивы по 10 элементов.\\\n",
    "Для этого воспользуемся функцией `np.reshape()`:\\\n",
    "Она принимает массив, который мы хотим изменить и размер, который мы хотим получить на выходе.\n",
    "\n",
    "В данном случае мы хотим получить 2-мерный массив из 400 строк и 10 столбцов.\\\n",
    "Каждая строчка массива содержит 10 значений, соответствующих числу отсчетов за 10 секунд."
   ]
  },
  {
   "cell_type": "code",
   "execution_count": 17,
   "metadata": {},
   "outputs": [
    {
     "name": "stdout",
     "output_type": "stream",
     "text": [
      "(400, 10)\n"
     ]
    },
    {
     "data": {
      "text/plain": [
       "array([[0, 1, 2, ..., 0, 3, 1],\n",
       "       [2, 2, 1, ..., 1, 1, 4],\n",
       "       [2, 3, 2, ..., 4, 2, 2],\n",
       "       ...,\n",
       "       [0, 1, 0, ..., 0, 0, 1],\n",
       "       [1, 4, 1, ..., 0, 0, 2],\n",
       "       [1, 2, 1, ..., 2, 0, 0]])"
      ]
     },
     "execution_count": 17,
     "metadata": {},
     "output_type": "execute_result"
    }
   ],
   "source": [
    "reshaped_data = np.reshape(np_data, (400, 10))\n",
    "\n",
    "print(reshaped_data.shape)\n",
    "reshaped_data"
   ]
  },
  {
   "cell_type": "markdown",
   "metadata": {},
   "source": [
    "Если у вас много строк в массиве (как у нас 4000), но вы точно знаете, что вам нужно 10 столбцов и не хотите считать необходимое количество строк вручную, то `python` может подобрать число строк автоматически. Для этого вместа числа 400 в ячейке выше напишем -1 и убедимся, что получим то же самое:"
   ]
  },
  {
   "cell_type": "code",
   "execution_count": 18,
   "metadata": {},
   "outputs": [
    {
     "name": "stdout",
     "output_type": "stream",
     "text": [
      "(400, 10)\n"
     ]
    },
    {
     "data": {
      "text/plain": [
       "array([[0, 1, 2, ..., 0, 3, 1],\n",
       "       [2, 2, 1, ..., 1, 1, 4],\n",
       "       [2, 3, 2, ..., 4, 2, 2],\n",
       "       ...,\n",
       "       [0, 1, 0, ..., 0, 0, 1],\n",
       "       [1, 4, 1, ..., 0, 0, 2],\n",
       "       [1, 2, 1, ..., 2, 0, 0]])"
      ]
     },
     "execution_count": 18,
     "metadata": {},
     "output_type": "execute_result"
    }
   ],
   "source": [
    "reshaped_data = np.reshape(np_data, (-1, 10))\n",
    "\n",
    "print(reshaped_data.shape)\n",
    "reshaped_data"
   ]
  },
  {
   "cell_type": "markdown",
   "metadata": {},
   "source": [
    "Посмотрим на нулевую строку и нулевой столбец получившегося двумерного массива:"
   ]
  },
  {
   "cell_type": "code",
   "execution_count": 19,
   "metadata": {},
   "outputs": [
    {
     "name": "stdout",
     "output_type": "stream",
     "text": [
      "[0 1 2 3 0 0 3 0 3 1]\n"
     ]
    },
    {
     "data": {
      "text/plain": [
       "array([0, 2, 2, 0, 4, 0, 4, 1, 0, 0, 0, 0, 0, 1, 3, 2, 3, 0, 0, 1, 0, 2,\n",
       "       1, 0, 4, 0, 0, 3, 3, 1, 1, 1, 0, 3, 0, 0, 1, 0, 0, 2, 0, 0, 1, 1,\n",
       "       0, 3, 2, 1, 0, 0, 2, 0, 1, 1, 0, 4, 0, 0, 2, 1, 0, 0, 0, 1, 1, 1,\n",
       "       4, 2, 2, 3, 1, 1, 0, 0, 1, 2, 3, 1, 1, 1, 0, 1, 0, 3, 2, 2, 0, 1,\n",
       "       3, 1, 1, 2, 0, 1, 1, 0, 2, 1, 1, 2, 3, 0, 1, 1, 2, 3, 3, 1, 3, 1,\n",
       "       0, 3, 2, 0, 1, 2, 1, 3, 2, 1, 0, 2, 3, 0, 0, 2, 0, 1, 2, 1, 3, 2,\n",
       "       1, 1, 1, 0, 0, 0, 0, 2, 1, 1, 0, 0, 1, 1, 3, 2, 1, 1, 1, 0, 0, 0,\n",
       "       1, 2, 0, 1, 1, 0, 4, 2, 1, 1, 2, 0, 0, 0, 4, 0, 1, 3, 3, 2, 2, 0,\n",
       "       4, 1, 1, 1, 0, 0, 3, 0, 1, 0, 0, 1, 0, 1, 1, 3, 1, 0, 1, 1, 1, 2,\n",
       "       1, 3, 0, 2, 3, 0, 1, 2, 2, 0, 2, 0, 1, 1, 0, 0, 1, 2, 3, 1, 1, 2,\n",
       "       1, 2, 4, 2, 3, 1, 0, 2, 4, 3, 1, 1, 4, 1, 1, 1, 3, 2, 4, 1, 0, 2,\n",
       "       1, 4, 1, 2, 0, 0, 0, 2, 0, 3, 3, 1, 0, 0, 0, 1, 1, 2, 0, 3, 0, 0,\n",
       "       3, 0, 0, 2, 0, 1, 0, 2, 1, 0, 2, 1, 0, 0, 3, 0, 1, 3, 4, 1, 0, 1,\n",
       "       0, 2, 2, 1, 0, 0, 3, 3, 0, 3, 0, 0, 3, 0, 3, 0, 1, 2, 4, 0, 3, 1,\n",
       "       1, 2, 1, 1, 2, 0, 2, 0, 1, 0, 1, 1, 1, 1, 0, 0, 1, 1, 0, 1, 2, 2,\n",
       "       0, 1, 1, 4, 2, 0, 1, 0, 0, 1, 0, 1, 3, 1, 0, 1, 1, 0, 2, 0, 2, 6,\n",
       "       2, 1, 0, 0, 0, 0, 1, 2, 0, 1, 2, 3, 1, 0, 2, 2, 0, 0, 0, 0, 1, 0,\n",
       "       1, 2, 2, 0, 0, 1, 2, 2, 1, 1, 1, 1, 1, 1, 2, 3, 7, 2, 2, 1, 1, 1,\n",
       "       1, 0, 1, 1])"
      ]
     },
     "execution_count": 19,
     "metadata": {},
     "output_type": "execute_result"
    }
   ],
   "source": [
    "print(reshaped_data[0])\n",
    "reshaped_data[:,0]"
   ]
  },
  {
   "cell_type": "markdown",
   "metadata": {},
   "source": [
    "Теперь просуммируем число отсчетов в каждом интервале по 10 секунд"
   ]
  },
  {
   "cell_type": "code",
   "execution_count": 20,
   "metadata": {},
   "outputs": [
    {
     "data": {
      "text/plain": [
       "array([13, 11, 24, 11, 17, 11, 17, 14, 10,  8,  8,  6,  8, 10, 12, 11, 23,\n",
       "        7,  7, 15,  7, 17, 11, 15, 17, 14, 14, 15, 12,  8, 14, 13, 15, 12,\n",
       "       13, 16, 17, 10, 12, 14,  8, 15, 17, 13, 17, 13, 18, 11,  4, 14,  8,\n",
       "        6, 10,  6, 10, 22, 10, 10, 10, 13, 14,  8, 11, 11, 15,  8, 13, 19,\n",
       "       14, 14,  9, 11, 15, 12, 10, 14, 18,  8, 11, 16,  6,  8, 10, 14,  7,\n",
       "       15,  9, 16, 17, 11, 13, 20,  7, 10, 13, 15, 15, 13, 17, 15,  9, 10,\n",
       "        6, 17, 17, 16, 14,  9, 19, 14, 12, 14, 21, 14, 19, 14, 12, 17, 16,\n",
       "       15, 11, 11,  7,  9, 11, 10, 15,  7, 12, 12, 16, 13, 13,  6, 11, 10,\n",
       "       15, 11, 12, 24, 10, 17, 10,  9, 13, 19, 13, 18, 10, 20, 11, 12, 11,\n",
       "        7, 14, 17, 17,  9, 13,  8, 17, 18, 12, 16, 13, 11, 11, 16, 19,  9,\n",
       "        9, 18, 17, 12, 15, 17, 14, 15, 11, 16,  8, 14, 17, 14, 13,  6,  6,\n",
       "       12, 12, 14, 11, 13, 18, 12, 14, 14, 12,  8, 17,  8, 17, 13, 11, 11,\n",
       "        8, 11, 13, 17, 14, 15, 15, 14,  8, 11,  8, 16, 11, 14, 11, 10, 11,\n",
       "       12, 18, 11, 14, 18, 11, 12, 14, 13,  7, 13, 13, 12,  8, 12, 12, 14,\n",
       "       21, 17, 10, 19, 10, 19, 13, 13,  7,  8, 16, 14, 14, 11, 12, 11, 13,\n",
       "       11, 12,  9, 10, 12, 15, 19, 16, 12, 15, 10, 12,  8, 13,  7, 11, 13,\n",
       "       13, 11, 14,  9, 12,  7, 11, 12, 19, 16, 18,  9, 15, 10, 12,  9, 12,\n",
       "        8, 10,  8,  9, 19,  9, 16,  6, 16, 12,  7, 22, 10, 14, 19, 14,  9,\n",
       "       17, 13, 14, 13, 13,  8, 10, 10, 19, 12, 18, 13, 12,  6, 14,  8, 14,\n",
       "        8, 12,  8, 11, 10, 11, 10, 14,  6, 14, 12, 13,  9,  9, 13, 10, 14,\n",
       "        8, 15, 20, 11, 12, 13, 11,  7, 15, 13, 13, 11, 14, 14,  8, 13,  7,\n",
       "        9, 11, 13,  5,  9, 18, 16,  7, 13, 11, 14,  6,  9, 18, 13,  7, 14,\n",
       "       16,  6, 11, 10, 16,  6, 11, 19, 10, 17,  8,  6,  6, 15, 11, 16, 14,\n",
       "       11, 10, 14, 18, 11, 15, 10, 14, 11])"
      ]
     },
     "execution_count": 20,
     "metadata": {},
     "output_type": "execute_result"
    }
   ],
   "source": [
    "sum_data = np.sum(reshaped_data, 1) # 0 суммирует столбцы, 1 - строки\n",
    "sum_data"
   ]
  },
  {
   "cell_type": "markdown",
   "metadata": {},
   "source": [
    "Построим новую гистограмму уже для разбиения не по 1, а по 10 секунд"
   ]
  },
  {
   "cell_type": "code",
   "execution_count": 21,
   "metadata": {},
   "outputs": [
    {
     "data": {
      "image/png": "[encoded data removed]",
      "text/plain": [
       "<Figure size 1200x1000 with 1 Axes>"
      ]
     },
     "metadata": {},
     "output_type": "display_data"
    }
   ],
   "source": [
    "plt.hist(geiger_data['Exp_data'], bins=range(0, 50, 1), label='Geiger data, 1 sec', density=True)\n",
    "plt.hist(sum_data, bins=range(0, 50, 1), label='Geiger data, 10 sec', density=True)\n",
    "\n",
    "plt.xlabel('Число отсчетов')\n",
    "plt.ylabel('Доля случаев')\n",
    "\n",
    "plt.legend()\n",
    "\n",
    "plt.show()"
   ]
  },
  {
   "cell_type": "markdown",
   "metadata": {},
   "source": [
    "Помимо удобных функций и возможности переделывать массивы в разные формы, `NumPy`-массивы отличаются от обычных списков тем,\\\n",
    "что для них можно очень просто делать поэлементные операции.\n",
    "\n",
    "Сравним получение списка квадратов чисел для обычного списка и массива из NumPy.\n",
    "\n",
    "**Обычный список**:"
   ]
  },
  {
   "cell_type": "code",
   "execution_count": 22,
   "metadata": {},
   "outputs": [
    {
     "name": "stdout",
     "output_type": "stream",
     "text": [
      "[1, 4, 9, 16, 25, 36, 49]\n"
     ]
    }
   ],
   "source": [
    "my_list = [1, 2, 3, 4, 5, 6, 7]\n",
    "\n",
    "my_new_list = [] # создаем пустой список для записи элементов\n",
    "\n",
    "for number in my_list:\n",
    "    my_new_list.append(number ** 2)  # append используется для того, чтобы добавить значение к списку справа\n",
    "\n",
    "print(my_new_list)"
   ]
  },
  {
   "cell_type": "markdown",
   "metadata": {},
   "source": [
    "Гораздо удобнее было бы сказать нашему коду сделать какую-то операцию с каждым элементом списка.\\\n",
    "Например, вот так:"
   ]
  },
  {
   "cell_type": "code",
   "execution_count": 23,
   "metadata": {},
   "outputs": [
    {
     "ename": "TypeError",
     "evalue": "unsupported operand type(s) for ** or pow(): 'list' and 'int'",
     "output_type": "error",
     "traceback": [
      "\u001b[31m---------------------------------------------------------------------------\u001b[39m",
      "\u001b[31mTypeError\u001b[39m                                 Traceback (most recent call last)",
      "\u001b[36mCell\u001b[39m\u001b[36m \u001b[39m\u001b[32mIn[23]\u001b[39m\u001b[32m, line 1\u001b[39m\n\u001b[32m----> \u001b[39m\u001b[32m1\u001b[39m \u001b[43mmy_list\u001b[49m\u001b[43m \u001b[49m\u001b[43m*\u001b[49m\u001b[43m*\u001b[49m\u001b[43m \u001b[49m\u001b[32;43m2\u001b[39;49m\n",
      "\u001b[31mTypeError\u001b[39m: unsupported operand type(s) for ** or pow(): 'list' and 'int'"
     ]
    }
   ],
   "source": [
    "my_list ** 2"
   ]
  },
  {
   "cell_type": "markdown",
   "metadata": {},
   "source": [
    "Но это вызывает ошибку, потому что в стандартные списки Python этот функционал не добавлен.\n",
    "\n",
    "На помощь приходит NumPy-массив. Попробуем сделать то же самое для него:"
   ]
  },
  {
   "cell_type": "code",
   "execution_count": 24,
   "metadata": {},
   "outputs": [
    {
     "name": "stdout",
     "output_type": "stream",
     "text": [
      "[1 2 3 4 5 6 7]\n",
      "[ 1  4  9 16 25 36 49]\n"
     ]
    }
   ],
   "source": [
    "my_np_list = np.array(my_list)\n",
    "print(my_np_list)\n",
    "\n",
    "my_new_np_list = my_np_list ** 2 \n",
    "print(my_new_np_list)"
   ]
  },
  {
   "cell_type": "markdown",
   "metadata": {},
   "source": [
    "Кроме того, можно проводить поэлементные операции между массивами одного размера:"
   ]
  },
  {
   "cell_type": "code",
   "execution_count": 25,
   "metadata": {},
   "outputs": [
    {
     "name": "stdout",
     "output_type": "stream",
     "text": [
      "[ 2  6 12 20 30 42 56]\n"
     ]
    }
   ],
   "source": [
    "print(my_np_list + my_new_np_list)"
   ]
  },
  {
   "cell_type": "markdown",
   "metadata": {},
   "source": [
    "Итак, для NumPy-массивов можно выполнять математические операции поэлементно, просто\\\n",
    "прописывая эти операции с массивом, как если бы это была обычная переменная-число.\n",
    "\n",
    "Таким образом, используя функции NumPy и математические символы можно писать довольно сложные функции,\\\n",
    "которые удобно использовать для рисования графиков:\n",
    "\n",
    "Пусть у нас есть массив значений по X и функция Y(X), которую мы хотим нарисовать.\\\n",
    "Тогда для получения значений по Y нам достаточно передать в функцию весь массив X и все.\n",
    "\n",
    "Попробуем это сделать на примере функции для расчета вероятностей для распределения Пуассона."
   ]
  },
  {
   "cell_type": "code",
   "execution_count": 63,
   "metadata": {},
   "outputs": [],
   "source": [
    "from math import gamma\n",
    "\n",
    "# ЭТО ФУНКЦИЯ НЕПРИЯТНОГО ВИДА ДЛЯ РАСЧЕТА ФАКТОРИАЛА БЕЗ СПЕЦИАЛЬНЫХ БИБЛИОТЕК\n",
    "def factorial(array):\n",
    "    return np.array([gamma(val+1) for val in array])\n",
    "\n",
    "# НАС ИНТЕРЕСУЕТ ТОЛЬКО ФУНКЦИЯ С РАСПРЕДЕЛЕНИЕМ ПУАССОНА\n",
    "def poisson(n, expected): # Expected -- это аргумент, задающий мат.ожидания распределения\n",
    "    return expected ** n / factorial(n) * np.exp(-expected)"
   ]
  },
  {
   "cell_type": "code",
   "execution_count": 64,
   "metadata": {},
   "outputs": [
    {
     "name": "stdout",
     "output_type": "stream",
     "text": [
      "[3.86905603e-06 5.23389327e-06 6.97916635e-06 9.18895857e-06\n",
      " 1.19617388e-05 1.54121300e-05 1.96727967e-05 2.48964482e-05\n",
      " 3.12579499e-05 3.89565357e-05 4.82181108e-05 5.92976317e-05\n",
      " 7.24815505e-05 8.80903048e-05 1.06480836e-04 1.28049114e-04\n",
      " 1.53232643e-04 1.82512933e-04 2.16417889e-04 2.55524119e-04\n",
      " 3.00459103e-04 3.51903207e-04 4.10591510e-04 4.77315401e-04\n",
      " 5.52923924e-04 6.38324831e-04 7.34485314e-04 8.42432379e-04\n",
      " 9.63252836e-04 1.09809287e-03 1.24815719e-03 1.41470765e-03\n",
      " 1.59906147e-03 1.80258885e-03 2.02671012e-03 2.27289235e-03\n",
      " 2.54264534e-03 2.83751717e-03 3.15908907e-03 3.50896986e-03\n",
      " 3.88878975e-03 4.30019369e-03 4.74483418e-03 5.22436360e-03\n",
      " 5.74042611e-03 6.29464908e-03 6.88863425e-03 7.52394845e-03\n",
      " 8.20211407e-03 8.92459935e-03 9.69280844e-03 1.05080713e-02\n",
      " 1.13716338e-02 1.22846474e-02 1.32481593e-02 1.42631026e-02\n",
      " 1.53302865e-02 1.64503873e-02 1.76239391e-02 1.88513253e-02\n",
      " 2.01327709e-02 2.14683343e-02 2.28579011e-02 2.43011776e-02\n",
      " 2.57976852e-02 2.73467563e-02 2.89475296e-02 3.05989480e-02\n",
      " 3.22997560e-02 3.40484988e-02 3.58435224e-02 3.76829741e-02\n",
      " 3.95648045e-02 4.14867706e-02 4.34464395e-02 4.54411934e-02\n",
      " 4.74682352e-02 4.95245960e-02 5.16071422e-02 5.37125844e-02\n",
      " 5.58374873e-02 5.79782795e-02 6.01312653e-02 6.22926360e-02\n",
      " 6.44584824e-02 6.66248085e-02 6.87875444e-02 7.09425607e-02\n",
      " 7.30856829e-02 7.52127060e-02 7.73194094e-02 7.94015724e-02\n",
      " 8.14549885e-02 8.34754813e-02 8.54589188e-02 8.74012290e-02\n",
      " 8.92984137e-02 9.11465631e-02 9.29418697e-02 9.46806412e-02\n",
      " 9.63593140e-02 9.79744649e-02 9.95228230e-02 1.01001280e-01\n",
      " 1.02406902e-01 1.03736935e-01 1.04988819e-01 1.06160191e-01\n",
      " 1.07248894e-01 1.08252981e-01 1.09170723e-01 1.10000610e-01\n",
      " 1.10741355e-01 1.11391899e-01 1.11951404e-01 1.12419265e-01\n",
      " 1.12795100e-01 1.13078750e-01 1.13270283e-01 1.13369981e-01\n",
      " 1.13378344e-01 1.13296083e-01 1.13124110e-01 1.12863539e-01\n",
      " 1.12515676e-01 1.12082008e-01 1.11564201e-01 1.10964089e-01\n",
      " 1.10283664e-01 1.09525069e-01 1.08690586e-01 1.07782628e-01\n",
      " 1.06803729e-01 1.05756531e-01 1.04643777e-01 1.03468298e-01\n",
      " 1.02233004e-01 1.00940873e-01 9.95949393e-02 9.81982856e-02\n",
      " 9.67540305e-02 9.52653195e-02 9.37353149e-02 9.21671864e-02\n",
      " 9.05641019e-02 8.89292180e-02 8.72656720e-02 8.55765732e-02\n",
      " 8.38649953e-02 8.21339688e-02 8.03864737e-02 7.86254334e-02\n",
      " 7.68537080e-02 7.50740889e-02 7.32892935e-02 7.15019599e-02\n",
      " 6.97146434e-02 6.79298117e-02 6.61498420e-02 6.43770180e-02\n",
      " 6.26135268e-02 6.08614574e-02 5.91227985e-02 5.73994376e-02\n",
      " 5.56931597e-02 5.40056470e-02 5.23384785e-02 5.06931304e-02\n",
      " 4.90709766e-02 4.74732891e-02 4.59012399e-02 4.43559013e-02\n",
      " 4.28382486e-02 4.13491614e-02 3.98894255e-02 3.84597358e-02\n",
      " 3.70606982e-02 3.56928327e-02 3.43565756e-02 3.30522830e-02\n",
      " 3.17802334e-02 3.05406309e-02 2.93336084e-02 2.81592308e-02\n",
      " 2.70174981e-02 2.59083490e-02 2.48316640e-02 2.37872688e-02\n",
      " 2.27749374e-02 2.17943956e-02 2.08453242e-02 1.99273619e-02\n",
      " 1.90401091e-02 1.81831302e-02 1.73559572e-02 1.65580923e-02\n",
      " 1.57890109e-02 1.50481643e-02 1.43349827e-02 1.36488772e-02\n",
      " 1.29892426e-02 1.23554601e-02 1.17468990e-02 1.11629192e-02\n",
      " 1.06028734e-02 1.00661085e-02 9.55196835e-03 9.05979460e-03\n",
      " 8.58892894e-03 8.13871443e-03 7.70849696e-03 7.29762662e-03\n",
      " 6.90545891e-03 6.53135592e-03 6.17468736e-03 5.83483152e-03\n",
      " 5.51117619e-03 5.20311936e-03 4.91007004e-03 4.63144879e-03\n",
      " 4.36668833e-03 4.11523401e-03 3.87654422e-03 3.65009072e-03\n",
      " 3.43535898e-03 3.23184835e-03 3.03907227e-03 2.85655837e-03\n",
      " 2.68384859e-03 2.52049915e-03 2.36608058e-03 2.22017766e-03\n",
      " 2.08238932e-03 1.95232857e-03 1.82962228e-03 1.71391107e-03\n",
      " 1.60484907e-03 1.50210374e-03 1.40535559e-03 1.31429794e-03\n",
      " 1.22863663e-03 1.14808980e-03 1.07238748e-03 1.00127139e-03\n",
      " 9.34494575e-04 8.71821088e-04 8.13025673e-04 7.57893437e-04\n",
      " 7.06219518e-04 6.57808756e-04 6.12475363e-04 5.70042593e-04\n",
      " 5.30342418e-04 4.93215206e-04 4.58509396e-04 4.26081189e-04\n",
      " 3.95794237e-04 3.67519337e-04 3.41134137e-04 3.16522843e-04\n",
      " 2.93575931e-04 2.72189878e-04 2.52266885e-04 2.33714620e-04\n",
      " 2.16445960e-04 2.00378748e-04 1.85435552e-04 1.71543436e-04\n",
      " 1.58633738e-04 1.46641856e-04 1.35507039e-04 1.25172190e-04\n",
      " 1.15583678e-04 1.06691152e-04 9.84473641e-05 9.08080052e-05\n",
      " 8.37315421e-05 7.71790639e-05 7.11141354e-05 6.55026570e-05\n",
      " 6.03127310e-05 5.55145345e-05 5.10801983e-05 4.69836919e-05\n",
      " 4.32007139e-05 3.97085882e-05 3.64861659e-05 3.35137311e-05\n",
      " 3.07729136e-05 2.82466042e-05 2.59188762e-05 2.37749102e-05\n",
      " 2.18009237e-05 1.99841045e-05 1.83125475e-05 1.67751960e-05\n",
      " 1.53617852e-05 1.40627904e-05 1.28693771e-05 1.17733547e-05\n",
      " 1.07671332e-05 9.84368166e-06 8.99649045e-06 8.21953471e-06\n",
      " 7.50724090e-06 6.85445507e-06 6.25641334e-06 5.70871417e-06\n",
      " 5.20729258e-06 4.74839589e-06 4.32856119e-06 3.94459430e-06\n",
      " 3.59355007e-06 3.27271410e-06 2.97958566e-06 2.71186179e-06\n",
      " 2.46742251e-06 2.24431705e-06 2.04075106e-06 1.85507473e-06\n",
      " 1.68577168e-06 1.53144880e-06 1.39082664e-06 1.26273063e-06\n",
      " 1.14608291e-06 1.03989469e-06 9.43259294e-07 8.55345602e-07\n",
      " 7.75392077e-07 7.02701178e-07 6.36634230e-07 5.76606667e-07\n",
      " 5.22083644e-07 4.72575992e-07 4.27636475e-07 3.86856347e-07\n",
      " 3.49862171e-07 3.16312895e-07 2.85897153e-07 2.58330780e-07\n",
      " 2.33354532e-07 2.10731982e-07 1.90247585e-07 1.71704907e-07\n",
      " 1.54924988e-07 1.39744847e-07 1.26016107e-07 1.13603731e-07\n",
      " 1.02384864e-07 9.22477749e-08 8.30908816e-08 7.48218611e-08\n",
      " 6.73568332e-08 6.06196147e-08 5.45410355e-08 4.90583143e-08\n",
      " 4.41144870e-08 3.96578850e-08 3.56416583e-08 3.20233397e-08\n",
      " 2.87644476e-08 2.58301231e-08 2.31887993e-08 2.08118994e-08\n",
      " 1.86735620e-08 1.67503902e-08 1.50212239e-08 1.34669317e-08\n",
      " 1.20702219e-08 1.08154708e-08 9.68856562e-09 8.67676305e-09\n",
      " 7.76855944e-09 6.95357363e-09 6.22244026e-09 5.56671300e-09\n",
      " 4.97877666e-09 4.45176753e-09 3.97950107e-09 3.55640644e-09\n",
      " 3.17746708e-09 2.83816692e-09 2.53444168e-09 2.26263476e-09\n",
      " 2.01945734e-09 1.80195223e-09 1.60746125e-09 1.43359568e-09\n",
      " 1.27820959e-09 1.13937571e-09 1.01536368e-09 9.04620337e-10\n",
      " 8.05752025e-10 7.17508542e-10 6.38768707e-10 5.68527333e-10\n",
      " 5.05883480e-10 4.50029878e-10 4.00243393e-10 3.55876437e-10\n",
      " 3.16349246e-10 2.81142917e-10 2.49793150e-10 2.21884621e-10\n",
      " 1.97045916e-10 1.74944985e-10 1.55285046e-10 1.37800918e-10\n",
      " 1.22255718e-10 1.08437900e-10 9.61585971e-11 8.52492359e-11\n",
      " 7.55593963e-11 6.69548931e-11 5.93160563e-11 5.25361897e-11\n",
      " 4.65201895e-11 4.11833079e-11 3.64500450e-11 3.22531581e-11\n",
      " 2.85327742e-11 2.52355963e-11 2.23141937e-11 1.97263677e-11\n",
      " 1.74345838e-11 1.54054650e-11 1.36093395e-11 1.20198355e-11\n",
      " 1.06135207e-11 9.36958003e-12 8.26952787e-12 7.29695171e-12\n",
      " 6.43728332e-12 5.67759487e-12 5.00641706e-12 4.41357720e-12\n",
      " 3.89005489e-12 3.42785354e-12 3.01988588e-12 2.65987223e-12\n",
      " 2.34224980e-12 2.06209208e-12 1.81503718e-12 1.59722406e-12\n",
      " 1.40523587e-12 1.23604957e-12 1.08699124e-12 9.55696302e-13\n",
      " 8.40074282e-13 7.38277455e-13 6.48673069e-13 5.69818681e-13\n",
      " 5.00440285e-13 4.39412912e-13 3.85743436e-13 3.38555335e-13\n",
      " 2.97075182e-13 2.60620682e-13 2.28590082e-13 2.00452784e-13\n",
      " 1.75741046e-13 1.54042632e-13 1.34994308e-13 1.18276100e-13\n",
      " 1.03606198e-13 9.07364702e-14 7.94484860e-14 6.95500053e-14\n",
      " 6.08718780e-14 5.32653053e-14 4.65994210e-14 4.07591570e-14\n",
      " 3.56433595e-14 3.11631267e-14 2.72403426e-14 2.38063844e-14\n",
      " 2.08009823e-14 1.81712147e-14 1.58706230e-14 1.38584315e-14\n",
      " 1.20988601e-14 1.05605196e-14 9.21587900e-15 8.04079640e-15\n",
      " 7.01410681e-15 6.11725909e-15 5.33399675e-15 4.65007727e-15\n",
      " 4.05302540e-15 3.53191620e-15 3.07718457e-15 2.68045776e-15\n",
      " 2.33440837e-15 2.03262526e-15 1.76950012e-15 1.54012811e-15\n",
      " 1.34022045e-15 1.16602793e-15 1.01427367e-15 8.82094302e-16]\n"
     ]
    }
   ],
   "source": [
    "x_values = np.arange(0, 50, 0.1) # Создадим массив значений от 0 до 50 с шагом в 0.1\n",
    "expected_value = np.mean(sum_data)\n",
    "\n",
    "y_values = poisson(x_values, expected_value)\n",
    "\n",
    "print(y_values)"
   ]
  },
  {
   "cell_type": "markdown",
   "metadata": {},
   "source": [
    "Для отрисовки полученной зависимости нарисуем график при помощи `plt.plot()`.\n",
    "\n",
    "Он принимает массивы x и y, а затем рисует ломаную линию по координатам\\\n",
    "x[0], y[0] -> x[1], y[1] -> ... \n",
    "\n",
    "Нарисуем такую линию для полученного распределения:"
   ]
  },
  {
   "cell_type": "code",
   "execution_count": 65,
   "metadata": {},
   "outputs": [
    {
     "data": {
      "image/png": "[encoded data removed]",
      "text/plain": [
       "<Figure size 1200x1000 with 1 Axes>"
      ]
     },
     "metadata": {},
     "output_type": "display_data"
    }
   ],
   "source": [
    "plt.hist(geiger_data['Exp_data'], bins=range(0, 50, 1), label='Geiger data, 1 sec', density=True)\n",
    "plt.hist(sum_data, bins=range(0, 50, 1), label='Geiger data, 10 sec', density=True)\n",
    "\n",
    "plt.plot(x_values, y_values, label='Poisson distribution for 10 sec')\n",
    "\n",
    "plt.xlabel('Число отсчетов')\n",
    "plt.ylabel('Доля случаев')\n",
    "\n",
    "plt.legend()\n",
    "\n",
    "plt.show()"
   ]
  },
  {
   "cell_type": "markdown",
   "metadata": {},
   "source": [
    "> *Задание. Группировка.*\\\n",
    "Создайте новый массив, в котором данные сгруппированы по 20 секунд.\\\n",
    "Нарисуйте гистограмму полученного набора на графике вместе с двумя предыдущими."
   ]
  },
  {
   "cell_type": "code",
   "execution_count": 39,
   "metadata": {},
   "outputs": [],
   "source": [
    "# ВАШ КОД ЗДЕСЬ"
   ]
  },
  {
   "cell_type": "code",
   "execution_count": 40,
   "metadata": {},
   "outputs": [],
   "source": [
    "# ВАШ КОД ЗДЕСЬ. РИСУЕМ РЕЗУЛЬТАТ"
   ]
  },
  {
   "cell_type": "markdown",
   "metadata": {},
   "source": [
    "<p>\n",
    "<details>\n",
    "<summary>Вариант решения, кликни, если хочешь посмотреть, но сначала попробуй самостоятельно.</summary>\n",
    "\n",
    "```python\n",
    "sum20_data = np.sum(np.reshape(np_data, (-1, 20)), 1)\n",
    "\n",
    "plt.hist(geiger_data['Exp_data'], bins=range(0, 50, 1), label='Geiger data, 1 sec', density=True)\n",
    "plt.hist(sum_data, bins=range(0, 50, 1), label='Geiger data, 10 sec', density=True)\n",
    "plt.hist(sum20_data, bins=range(0, 50, 1), label='Geiger data, 20 sec', density=True)\n",
    "\n",
    "plt.plot(x_values, y_values, label='Poisson distribution for 10 sec')\n",
    "\n",
    "plt.xlabel('Число отсчетов')\n",
    "plt.ylabel('Доля случаев')\n",
    "\n",
    "plt.legend()\n",
    "\n",
    "plt.show()\n",
    "```\n",
    "</details>\n",
    "</p>"
   ]
  },
  {
   "cell_type": "markdown",
   "metadata": {},
   "source": [
    "> *Задание. Нормальное.*\\\n",
    "Допишите функцию, которая описывает плотность вероятности [нормального распределения](https://ru.wikipedia.org/wiki/%D0%9D%D0%BE%D1%80%D0%BC%D0%B0%D0%BB%D1%8C%D0%BD%D0%BE%D0%B5_%D1%80%D0%B0%D1%81%D0%BF%D1%80%D0%B5%D0%B4%D0%B5%D0%BB%D0%B5%D0%BD%D0%B8%D0%B5).\\\n",
    "Нарисуйте ее на графике для третьей гистограммы.\n",
    "\n",
    "Подсказка:\\\n",
    "Для вычисления квадратного корня используйте функцию `np.sqrt()`,\\\n",
    "для вычисления экспоненты -- функцию `np.exp()`,\\\n",
    "для вычисления числа пи -- переменную `np.pi`"
   ]
  },
  {
   "cell_type": "code",
   "execution_count": 41,
   "metadata": {},
   "outputs": [],
   "source": [
    "def gaussian(x, expected, sigma):\n",
    "    # МЕСТО ДЛЯ ВАШЕГО КОДА\n",
    "\n",
    "    return # И ЭТО ТОЖЕ"
   ]
  },
  {
   "cell_type": "markdown",
   "metadata": {},
   "source": [
    "<p>\n",
    "<details>\n",
    "<summary>Вариант решения, кликни, если хочешь посмотреть, но сначала попробуй самостоятельно.</summary>\n",
    "\n",
    "```python\n",
    "def gaussian(x, expected, sigma):\n",
    "    return 1 / (sigma * np.sqrt(2 * np.pi)) * np.exp(-0.5 * ((x-expected)/sigma) ** 2)\n",
    "```\n",
    "</details>\n",
    "</p>"
   ]
  },
  {
   "cell_type": "code",
   "execution_count": 42,
   "metadata": {},
   "outputs": [],
   "source": [
    "# МЕСТО ДЛЯ ВАШЕГО КОДА, НАРИСУЕМ РЕЗУЛЬТАТ"
   ]
  },
  {
   "cell_type": "markdown",
   "metadata": {},
   "source": [
    "<p>\n",
    "<details>\n",
    "<summary>Вариант решения, кликни, если хочешь посмотреть, но сначала попробуй самостоятельно.</summary>\n",
    "\n",
    "```python\n",
    "# Значение sigma выбиралось из предположения, что при больших n распределение Пуассона сводится к Гауссовому,\n",
    "# следовательно sigma будет таким же, как в распределении Пуассона\n",
    "y_values_20 = gaussian(x_values, np.mean(sum20_data), np.sqrt(np.mean(sum20_data)))\n",
    "\n",
    "plt.hist(geiger_data['Exp_data'], bins=range(0, 50, 1), label='Geiger data, 1 sec', density=True)\n",
    "plt.hist(sum_data, bins=range(0, 50, 1), label='Geiger data, 10 sec', density=True)\n",
    "plt.hist(sum20_data, bins=range(0, 50, 1), label='Geiger data, 20 sec', density=True)\n",
    "\n",
    "plt.plot(x_values, y_values, label='Poisson distribution for 10 sec')\n",
    "plt.plot(x_values, y_values_20, label='Gaussian distribution for 20 sec')\n",
    "\n",
    "plt.xlabel('Число отсчетов')\n",
    "plt.ylabel('Доля случаев')\n",
    "\n",
    "plt.legend()\n",
    "\n",
    "plt.show()\n",
    "```\n",
    "</details>\n",
    "</p>\n",
    "\n"
   ]
  },
  {
   "cell_type": "markdown",
   "metadata": {},
   "source": [
    "#### **Блок 3. Обработка линейных зависимостей.**"
   ]
  },
  {
   "cell_type": "markdown",
   "metadata": {},
   "source": [
    "Сейчас попробуем обработать еще один набор данных.\\\n",
    "Здесь комментарии сведены к минимуму, чтобы вы могли сами разобраться, что происходит."
   ]
  },
  {
   "cell_type": "markdown",
   "metadata": {},
   "source": [
    "Читаем данные из csv-файла при помощи функции `read_csv()`.\\\n",
    "`index_col` просто задает столбец, в котором указана нумерация таблицы.   "
   ]
  },
  {
   "cell_type": "code",
   "execution_count": 66,
   "metadata": {},
   "outputs": [
    {
     "data": {
      "text/html": [
       "<div>\n",
       "<style scoped>\n",
       "    .dataframe tbody tr th:only-of-type {\n",
       "        vertical-align: middle;\n",
       "    }\n",
       "\n",
       "    .dataframe tbody tr th {\n",
       "        vertical-align: top;\n",
       "    }\n",
       "\n",
       "    .dataframe thead th {\n",
       "        text-align: right;\n",
       "    }\n",
       "</style>\n",
       "<table border=\"1\" class=\"dataframe\">\n",
       "  <thead>\n",
       "    <tr style=\"text-align: right;\">\n",
       "      <th></th>\n",
       "      <th>X</th>\n",
       "      <th>Y</th>\n",
       "    </tr>\n",
       "  </thead>\n",
       "  <tbody>\n",
       "    <tr>\n",
       "      <th>0</th>\n",
       "      <td>1.01</td>\n",
       "      <td>0.5</td>\n",
       "    </tr>\n",
       "    <tr>\n",
       "      <th>1</th>\n",
       "      <td>2.00</td>\n",
       "      <td>1.2</td>\n",
       "    </tr>\n",
       "    <tr>\n",
       "      <th>2</th>\n",
       "      <td>3.01</td>\n",
       "      <td>2.0</td>\n",
       "    </tr>\n",
       "    <tr>\n",
       "      <th>3</th>\n",
       "      <td>3.99</td>\n",
       "      <td>2.4</td>\n",
       "    </tr>\n",
       "    <tr>\n",
       "      <th>4</th>\n",
       "      <td>4.99</td>\n",
       "      <td>2.5</td>\n",
       "    </tr>\n",
       "    <tr>\n",
       "      <th>5</th>\n",
       "      <td>6.01</td>\n",
       "      <td>2.2</td>\n",
       "    </tr>\n",
       "    <tr>\n",
       "      <th>6</th>\n",
       "      <td>6.98</td>\n",
       "      <td>3.4</td>\n",
       "    </tr>\n",
       "    <tr>\n",
       "      <th>7</th>\n",
       "      <td>8.02</td>\n",
       "      <td>4.5</td>\n",
       "    </tr>\n",
       "    <tr>\n",
       "      <th>8</th>\n",
       "      <td>9.00</td>\n",
       "      <td>3.9</td>\n",
       "    </tr>\n",
       "    <tr>\n",
       "      <th>9</th>\n",
       "      <td>10.00</td>\n",
       "      <td>4.7</td>\n",
       "    </tr>\n",
       "    <tr>\n",
       "      <th>10</th>\n",
       "      <td>11.00</td>\n",
       "      <td>5.3</td>\n",
       "    </tr>\n",
       "    <tr>\n",
       "      <th>11</th>\n",
       "      <td>12.00</td>\n",
       "      <td>5.2</td>\n",
       "    </tr>\n",
       "    <tr>\n",
       "      <th>12</th>\n",
       "      <td>13.00</td>\n",
       "      <td>6.0</td>\n",
       "    </tr>\n",
       "    <tr>\n",
       "      <th>13</th>\n",
       "      <td>13.99</td>\n",
       "      <td>6.8</td>\n",
       "    </tr>\n",
       "    <tr>\n",
       "      <th>14</th>\n",
       "      <td>15.01</td>\n",
       "      <td>7.7</td>\n",
       "    </tr>\n",
       "    <tr>\n",
       "      <th>15</th>\n",
       "      <td>16.02</td>\n",
       "      <td>8.0</td>\n",
       "    </tr>\n",
       "    <tr>\n",
       "      <th>16</th>\n",
       "      <td>16.99</td>\n",
       "      <td>8.0</td>\n",
       "    </tr>\n",
       "    <tr>\n",
       "      <th>17</th>\n",
       "      <td>18.00</td>\n",
       "      <td>8.1</td>\n",
       "    </tr>\n",
       "    <tr>\n",
       "      <th>18</th>\n",
       "      <td>18.99</td>\n",
       "      <td>9.8</td>\n",
       "    </tr>\n",
       "    <tr>\n",
       "      <th>19</th>\n",
       "      <td>20.00</td>\n",
       "      <td>9.8</td>\n",
       "    </tr>\n",
       "  </tbody>\n",
       "</table>\n",
       "</div>"
      ],
      "text/plain": [
       "        X    Y\n",
       "0    1.01  0.5\n",
       "1    2.00  1.2\n",
       "2    3.01  2.0\n",
       "3    3.99  2.4\n",
       "4    4.99  2.5\n",
       "5    6.01  2.2\n",
       "6    6.98  3.4\n",
       "7    8.02  4.5\n",
       "8    9.00  3.9\n",
       "9   10.00  4.7\n",
       "10  11.00  5.3\n",
       "11  12.00  5.2\n",
       "12  13.00  6.0\n",
       "13  13.99  6.8\n",
       "14  15.01  7.7\n",
       "15  16.02  8.0\n",
       "16  16.99  8.0\n",
       "17  18.00  8.1\n",
       "18  18.99  9.8\n",
       "19  20.00  9.8"
      ]
     },
     "execution_count": 66,
     "metadata": {},
     "output_type": "execute_result"
    }
   ],
   "source": [
    "linear_data = pd.read_csv('data/Exp_data_Linear.csv', index_col=0)\n",
    "\n",
    "linear_data"
   ]
  },
  {
   "cell_type": "markdown",
   "metadata": {},
   "source": [
    "Нарисуем данные. Поскольку мы хотим нарисовать каждую отдельную точку, используем функцию `scatter()`\\\n",
    "Она принимает те же аргументы, что и `plot()`, но рисует сами точки, а не ломаную линию."
   ]
  },
  {
   "cell_type": "code",
   "execution_count": 67,
   "metadata": {},
   "outputs": [
    {
     "data": {
      "image/png": "[encoded data removed]",
      "text/plain": [
       "<Figure size 1200x1000 with 1 Axes>"
      ]
     },
     "metadata": {},
     "output_type": "display_data"
    }
   ],
   "source": [
    "plt.scatter(linear_data['X'], linear_data['Y'])\n",
    "plt.xlabel('X')\n",
    "plt.ylabel('Y')\n",
    "plt.grid() # Добавляет сетку\n",
    "plt.show()"
   ]
  },
  {
   "cell_type": "markdown",
   "metadata": {},
   "source": [
    "Предположим теперь, что это данные с настоящего эксперимента, и мы знаем **погрешности приборов**, которыми померены\\\n",
    "значения X и Y."
   ]
  },
  {
   "cell_type": "code",
   "execution_count": 68,
   "metadata": {},
   "outputs": [],
   "source": [
    "err_X = 0.01\n",
    "err_Y = 0.1"
   ]
  },
  {
   "cell_type": "markdown",
   "metadata": {},
   "source": [
    "Тогда их тоже можно нанести на график, но используя другую функцию:\n",
    "`plt.errorbar(X, Y, errY, errX, ...)`\n",
    "\n",
    "Обратите внимание, что здесь мы также задаем формат отображения\\\n",
    "аргументом `fmt`. `fmt = '.'` значит, что мы хотим рисовать график только точками.\\\n",
    "Попробуйте убрать этот аргумент и посмотреть, что изменится."
   ]
  },
  {
   "cell_type": "code",
   "execution_count": 69,
   "metadata": {},
   "outputs": [
    {
     "data": {
      "image/png": "[encoded data removed]",
      "text/plain": [
       "<Figure size 1200x1000 with 1 Axes>"
      ]
     },
     "metadata": {},
     "output_type": "display_data"
    }
   ],
   "source": [
    "plt.errorbar(linear_data['X'], linear_data['Y'], err_Y, err_X, fmt='.')\n",
    "plt.grid()\n",
    "plt.show()"
   ]
  },
  {
   "cell_type": "markdown",
   "metadata": {},
   "source": [
    "Теперь попробуем провести прямую через эти данные по МНК и оценить коэффициент наклона.\n",
    "\n",
    "> *Задача. Матстатическая.*\\\n",
    "Допишите функцию вычисления МНК и ошибки по МНК в соответствии с указанием из ваших методических материалов.\n",
    "\n",
    "Подсказка: для вычисления среднего можно использовать функцию `np.mean()`\n",
    "\n",
    "**Внимание!** Данные для данной задачи подобрадны для частного случая линейной зависимости, проходящей через начало координат *y = kx*. Записать формулы коэффициентов МНК для общего случая *(y = ax+b)* предлагается самостоятельно за рамками данного занятия."
   ]
  },
  {
   "cell_type": "code",
   "execution_count": null,
   "metadata": {},
   "outputs": [],
   "source": [
    "def least_squares(x, y):\n",
    "    coeff = # МЕСТО ДЛЯ ВАШЕГО КОДА\n",
    "    err = 1 / np.sqrt(len(x)) * np.sqrt((y*y).mean() / (x*x).mean() - coeff ** 2)\n",
    "    return coeff, err"
   ]
  },
  {
   "cell_type": "markdown",
   "metadata": {},
   "source": [
    "<p>\n",
    "<details>\n",
    "<summary>Вариант решения, кликни, если хочешь посмотреть.</summary>\n",
    "\n",
    "```python\n",
    "def least_squares(x, y):\n",
    "    coeff = np.mean(x*y) / np.mean(x*x)\n",
    "    err = 1 / np.sqrt(len(x)) * np.sqrt((y*y).mean() / (x*x).mean() - coeff ** 2)\n",
    "    return coeff, err\n",
    "```\n",
    "</details>\n",
    "</p>"
   ]
  },
  {
   "cell_type": "markdown",
   "metadata": {},
   "source": [
    "Теперь при помощи этой функции вычислим коэффициент наклона графика и ошибку на него."
   ]
  },
  {
   "cell_type": "code",
   "execution_count": 72,
   "metadata": {},
   "outputs": [
    {
     "name": "stdout",
     "output_type": "stream",
     "text": [
      "0.48345295635846397 0.007470852450717606\n"
     ]
    }
   ],
   "source": [
    "coeff, err = least_squares(linear_data['X'], linear_data['Y'])\n",
    "\n",
    "print(coeff, err)"
   ]
  },
  {
   "cell_type": "code",
   "execution_count": 73,
   "metadata": {},
   "outputs": [
    {
     "data": {
      "image/png": "[encoded data removed]",
      "text/plain": [
       "<Figure size 1200x1000 with 1 Axes>"
      ]
     },
     "metadata": {},
     "output_type": "display_data"
    }
   ],
   "source": [
    "plt.errorbar(linear_data['X'], linear_data['Y'], err_Y, err_X, fmt='.')\n",
    "\n",
    "plt.plot(linear_data['X'], coeff * linear_data['X'], color='tab:red')\n",
    "\n",
    "plt.xlabel('X')\n",
    "plt.ylabel('Y')\n",
    "plt.show()"
   ]
  },
  {
   "cell_type": "markdown",
   "metadata": {},
   "source": [
    "Таким образом, вы можете получить случайную ошибку измеряемого параметра, а сложив ее квадратично с систематической (~ приборной), получить итоговую ошибку вашего измеряемого параметра."
   ]
  },
  {
   "cell_type": "markdown",
   "metadata": {},
   "source": [
    "### **Подводим итоги.**\n",
    "\n",
    "На сегодня все. Напоминаем, что если у вас остались вопросы, вы хотите узнать больше или прояснить\\\n",
    "отдельные моменты, напишите кому-то из авторов этого материала или спросите у них напрямую, если поймаете.\n",
    "\n",
    "**Радивон Арина Владимировна**:\\\n",
    "[@MsRisha](https://t.me/Ms_Risha)\n",
    "\n",
    "**Мухин Андрей Анатольевич**:\\\n",
    "[@rrousan](https://t.me/rrousan)\n",
    "\n",
    "**P.S.** Если вам будет интересна тема по обработке данных в Python не на базовом уровне, который представлен здесь, а на более продвинутом, который используют в научной работе, то можете посетить семинары Горизонтов Физики ИКИ РАН для 2го курса. Программу курса можно посмотреть [здесь](https://github.com/andrey-rrousan/iki_python_course/tree/v2024). "
   ]
  },
  {
   "cell_type": "markdown",
   "metadata": {},
   "source": [
    "> *Задание. Обратно-связное.*\\\n",
    "Заполните [форму обратной связи](https://forms.gle/yjHqpGoCCWJT7JY97) по этому занятию."
   ]
  }
 ],
 "metadata": {
  "kernelspec": {
   "display_name": "Python 3",
   "language": "python",
   "name": "python3"
  },
  "language_info": {
   "codemirror_mode": {
    "name": "ipython",
    "version": 3
   },
   "file_extension": ".py",
   "mimetype": "text/x-python",
   "name": "python",
   "nbconvert_exporter": "python",
   "pygments_lexer": "ipython3",
   "version": "3.12.11"
  }
 },
 "nbformat": 4,
 "nbformat_minor": 2
}
