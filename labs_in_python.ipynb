{
 "cells": [
  {
   "cell_type": "markdown",
   "metadata": {},
   "source": [
    "#### **Введение**\n",
    "\n",
    "Это ноутбук для ознакомительного занятия по обработке данных в Python при помощи Jupyter Notebook.\n",
    "\n",
    "На занятии мы разберем различные базовые вещи в Python и некоторые полезные его модули (NumPy, Pandas, Matploltib, SciPy).\n",
    "\n",
    "Если у вас есть вопросы, замечения или предложения по курсу, пожалуйста, пишите по контактам ниже:\n",
    "\n",
    "**Радивон Арина Владимировна**:\\\n",
    "[@MsRisha](https://t.me/Ms_Risha)\n",
    "\n",
    "**Мухин Андрей Анатольевич**:\\\n",
    "[@rrousan](https://t.me/rrousan)"
   ]
  },
  {
   "cell_type": "markdown",
   "metadata": {},
   "source": [
    "#### **Блок 1. Основы `Python`. Пройдемся по базе**"
   ]
  },
  {
   "cell_type": "markdown",
   "metadata": {},
   "source": [
    "Перед началом работы пройдемся по самым основным понятиям и синтаксису Python.\n",
    "\n",
    "*Обратим внимание, что для обработки данных этот блок может быть наполнен избыточно.*\\\n",
    "*Если вы хотите прямиком окунуться в обработку данных, просмотрите этот блок по диагонали и двигайтесь дальше.*\n",
    "\n",
    "Для продолжения запускайте последовательно **все** блоки кода (Shift + Enter) и решайте задачки."
   ]
  },
  {
   "cell_type": "markdown",
   "metadata": {},
   "source": [
    "**С чего начать?**\n",
    "\n",
    "Самое простое, что можно делать с Python -- это использовать его вместо калькулятора:"
   ]
  },
  {
   "cell_type": "code",
   "execution_count": null,
   "metadata": {},
   "outputs": [],
   "source": [
    "(1 + 1) / 4"
   ]
  },
  {
   "cell_type": "markdown",
   "metadata": {},
   "source": [
    "Классическим первым шагом в освоении любого языка является задача «Поприветствовать мир».\n",
    "\n",
    "Она состоит в том, чтобы написать код, который заставит компьютер вывести пользователю\n",
    "\n",
    "```python\n",
    "Hello world!\n",
    "```\n",
    "\n",
    "В Python для этого достаточно написать простую команду:"
   ]
  },
  {
   "cell_type": "code",
   "execution_count": null,
   "metadata": {},
   "outputs": [],
   "source": [
    "print('Hello world!')"
   ]
  },
  {
   "cell_type": "markdown",
   "metadata": {},
   "source": [
    "**Как выполняется код?**\n",
    "\n",
    "Python &mdash; интерпретируемый язык, в нем запуск кода осуществляется построчно, а результаты исполнения предыдущих строчек сохраняются и могут быть использованы. "
   ]
  },
  {
   "cell_type": "code",
   "execution_count": null,
   "metadata": {},
   "outputs": [],
   "source": [
    "print('First goes this')\n",
    "print('Hello world!')\n",
    "\n",
    "print('Then goes this')\n",
    "print('Hello world one again!')"
   ]
  },
  {
   "cell_type": "markdown",
   "metadata": {},
   "source": [
    "##### **Переменные**\n",
    "\n",
    "Первым отличием програмирования на Python от просто калькулятора является то, что мы можем записывать сложные конструкции в переменные.\\\n",
    "Переменные -- названия, которыми пользователь (вы) называет разные объекты языка для удобного к ним обращения.\n",
    "\n",
    "Это делается при помощи символа `=`.\n",
    "\n",
    "В примере ниже мы запишем результат выполнения какой-то операции в переменную `а`,\\\n",
    "затем результат выполнения другой операции в переменную `b`\\\n",
    "и выполним сложение этих двух переменных между собой и еще одним числом. "
   ]
  },
  {
   "cell_type": "code",
   "execution_count": null,
   "metadata": {},
   "outputs": [],
   "source": [
    "a = (1 + 1) / 4\n",
    "b = 13 * 0.25\n",
    "\n",
    "a + b + 3.15"
   ]
  },
  {
   "cell_type": "markdown",
   "metadata": {},
   "source": [
    "**Типы данных**\n",
    "\n",
    "Все данные в Python могут представляться разными типами:\\\n",
    "Численные данные могут быть целыми (`int`) или вещественными (`float`).\\\n",
    "Данные могут быть текстом (`str`).\\\n",
    "Данные могут быть группой из нескольких других объектов данных (`list`, `dict`, `set` и т.д.)\n",
    "\n",
    "С разными типами данных можно выполнять разные манипуляции:"
   ]
  },
  {
   "cell_type": "markdown",
   "metadata": {},
   "source": [
    "**Числа**"
   ]
  },
  {
   "cell_type": "code",
   "execution_count": null,
   "metadata": {},
   "outputs": [],
   "source": [
    "# INT\n",
    "a = 5\n",
    "print(a, type(a))\n",
    "\n",
    "# FLOAT\n",
    "b = 3.14\n",
    "print(b, type(b))\n",
    "\n",
    "print('Сумма чисел:', a + b)         \n",
    "print('Разность чисел:', a - b)      # операции с нецелыми числами иногда ошибаются на очень малое значение\n",
    "print('Произведение чисел:', a * b)  # это нормально, и связано с особенностями представления чисел в памяти компьютера\n",
    "print('Частное чисел:', a / b)\n",
    "print('Целочисленное деление, 5 // 3:', a // 3)  \n",
    "print('Остаток от деления, 5 % 3:', a % 3)\n",
    "print('Возведение в степень, 5^2:', a ** 2) # обратите внимание, не так как в других языках программирования"
   ]
  },
  {
   "cell_type": "markdown",
   "metadata": {},
   "source": [
    "**Строки**"
   ]
  },
  {
   "cell_type": "code",
   "execution_count": null,
   "metadata": {},
   "outputs": [],
   "source": [
    "c = 'some text'               # Строчки выделяются двойными(\"\") или одинарными кавычками('')\n",
    "print('Тип переменной', type(c))\n",
    "\n",
    "string1 = 'Hello'\n",
    "string2 = 'World'\n",
    "\n",
    "print(string1 + ' ' + string2) # Математических операторов для работы со строчками немного\n",
    "print(5 * string1)             # но даже они заметно облегчают жизнь."
   ]
  },
  {
   "cell_type": "markdown",
   "metadata": {},
   "source": [
    "**Списки**"
   ]
  },
  {
   "cell_type": "code",
   "execution_count": null,
   "metadata": {},
   "outputs": [],
   "source": [
    "my_list = [1, 2, 3, 4, 5]\n",
    "print(type(my_list))\n",
    "print(my_list)\n",
    "\n",
    "\n",
    "# Главное свойство списков -- доступ к его элементам\n",
    "print('Первый элемент списка', my_list[1])\n",
    "print('Элементы с 0 по 2', my_list[0:2])\n",
    "print('Элементы со 2 до конца', my_list[2:])\n",
    "\n",
    "# Элементы списка можно изменять\n",
    "my_list[0] = 0\n",
    "print(my_list)"
   ]
  },
  {
   "cell_type": "markdown",
   "metadata": {},
   "source": [
    "Кроме списков (`list`) в Python есть другие типы данных, которые представляют собой группы объектов, но сегодня мы не будем их рассматривать."
   ]
  },
  {
   "cell_type": "markdown",
   "metadata": {},
   "source": [
    "##### **Синтаксис Python, функции, условия, циклы**"
   ]
  },
  {
   "cell_type": "markdown",
   "metadata": {},
   "source": [
    "Еще одним важнейшим отличием Python от калькулятора является способность заставлять его делать более сложные операции.\n",
    "\n",
    "Главная структурная единица таких операций - функция:"
   ]
  },
  {
   "cell_type": "markdown",
   "metadata": {},
   "source": [
    "**Функции**\n",
    "\n",
    "Функции в `python` &mdash; это структуры, которые принимают в себя какие-то аргументы, затем обрабатывают\\\n",
    "их внутри себя и выдает обратно результат в соответствии с написанным кодом.\n",
    "\n",
    "Выше мы уже использовали функцию `print()`, которая принимает в себя аргумент-строку, а код внутри нее\\\n",
    "выводит этот текст пользователю.\n",
    "\n",
    "Функции бывают встроенные, а бывают самописные.\n",
    "\n",
    "Логика построения функция следующая:\n",
    "\n",
    "``` python\n",
    "def название_функции(переменная1, переменная2, ...):\n",
    "    код, который должен выполняться внутри\n",
    "    этот код использует данные, записанные в переменные строчки с def\n",
    "    return результат, который мы хотим передать на выход\n",
    "```\n",
    "\n",
    "Напишем код, который принимает число, а в ответ выдает квадрат этого числа."
   ]
  },
  {
   "cell_type": "code",
   "execution_count": null,
   "metadata": {},
   "outputs": [],
   "source": [
    "def square(number):\n",
    "    squared_number = number ** 2\n",
    "    return squared_number"
   ]
  },
  {
   "cell_type": "code",
   "execution_count": null,
   "metadata": {},
   "outputs": [],
   "source": [
    "print(square(6))"
   ]
  },
  {
   "cell_type": "markdown",
   "metadata": {},
   "source": [
    "> *Задание. Разминочное*\\\n",
    "Допишите функцию, которая будет принимать строчку `text` и число `num`, а вернет эту же строчку, скопированную `num` раз\n",
    "```\n",
    "привет, 5 -> приветприветприветприветпривет\n",
    "```"
   ]
  },
  {
   "cell_type": "code",
   "execution_count": null,
   "metadata": {},
   "outputs": [],
   "source": [
    "def repeater(text, num):\n",
    "    # ТУТ можно писать код\n",
    "    \n",
    "    return  # А сюда нужно вписать название переменной, которую мы вернем\n",
    "\n",
    "print(repeater('привет', 5))"
   ]
  },
  {
   "cell_type": "markdown",
   "metadata": {},
   "source": [
    "<p>\n",
    "<details>\n",
    "\n",
    "<summary> Тут вариант решения, кликни, если хочешь посмотреть, но сначала попробуй самостоятельно </summary>\n",
    "\n",
    "```python\n",
    "def repeater(text, num):\n",
    "    output = text*num\n",
    "    \n",
    "    return  output\n",
    "\n",
    "print(repeater('привет', 5))\n",
    "```\n",
    "\n",
    "</details>\n",
    "</p>"
   ]
  },
  {
   "cell_type": "markdown",
   "metadata": {},
   "source": [
    "**Условия**\n",
    "\n",
    "Условные операторы &mdash; это блоки кода, задающие определенноее условие для выполнения другого кода.\n",
    "\n",
    "Если `(я голоден)`, `(я покупаю шаурму)`, еще если `(я хочу спать)`, `(я ложусь спать)`.\n",
    "\n",
    "Если `(условие)`, `(что нужно сделать)`, еще если `(другое условие)`, `(другое действие)`\n",
    "\n",
    "Общая структура такого условного кода следующая:\n",
    "``` python\n",
    "if (условие):\n",
    "    код, который нужно выполнить\n",
    "elif (другое условие):\n",
    "    код, который нужно выполнить во втором случае\n",
    "else:\n",
    "    код, который нужно выполнить, если ни один из вариантов не подошел\n",
    "```\n",
    "\n",
    "Попробуйте запустить код ниже для разных значений `c` и посмотрите, что будет выводиться."
   ]
  },
  {
   "cell_type": "code",
   "execution_count": null,
   "metadata": {},
   "outputs": [],
   "source": [
    "c = 12\n",
    "\n",
    "print('Первый блок')\n",
    "if c > 5:\n",
    "    print('Переменная c больше 5. Ее значение:', c) # отступы в Python очень важны\n",
    "                                                       # они определяют, к какому блоку кода \n",
    "                                                       # относится команда\n",
    "# блок кода с условным оператором кончается там, где заканчиваются отступы\n",
    "elif c > 10:\n",
    "    print('Переменная c больше 10. Ее значение:', c) # Этот блок кода никогда не запустится, потому \n",
    "                                                     # что elif проверяется только если верхний if не сработал.\n",
    "if c > 10:\n",
    "     print('Переменная c больше 10. Ее значение:', c) # Этот блок может запуститься, потому что другой if предполагает\n",
    "                                                      # независимую от верхних условий проверку.\n",
    "\n",
    "print('Второй блок')\n",
    "if c < 5:\n",
    "    if c < 4:                               # Условия можно вкладывать друг в друга\n",
    "        print('Переменная c меньше 4. Ее значение:', c)\n",
    "    elif c < 3:                             # Условий elif можно накладывать сколько угодно, а else -- только один.\n",
    "        print('Переменная c меньше 3. Ее значение:', c)\n",
    "    elif c < 2:\n",
    "        print('Переменная c меньше 2. Ее значение:', c)\n",
    "    else:\n",
    "        print('Что за число было загадано?')\n",
    "\n",
    "\n",
    "print('Третий блок') \n",
    "if c > 5 or c < -5:                             # Условия можно собирать в логические комбинации\n",
    "    print('Эта переменная по модулю больше 5.') # А еще можно это писать в одну строчку"
   ]
  },
  {
   "cell_type": "markdown",
   "metadata": {},
   "source": [
    "> *Задание. Трагическое.*\\\n",
    "Попробуйте написать небольшой набор условий, который даст ответ о выживании людей на Титанике.\\\n",
    "Вам даны параметры sex, age и siblings, то есть пол, возраст и число родственников на корабле.\\\n",
    "Напишите набор условий для заданных параметров и напечатайте (`print()`), выжил бы такой пассажир или нет.\n",
    "\n",
    "![titanic image](1_images/titanic.png)\n",
    "\n",
    "Это классическая задача при создании деревьев решений, которые представляют собой кучу if условий, поэтому, даже просто зная как работают if операторы мы немного приближаемся к такой популярной теме, как машинное обучение."
   ]
  },
  {
   "cell_type": "code",
   "execution_count": null,
   "metadata": {},
   "outputs": [],
   "source": [
    "# Можете вписать свои данные\n",
    "sex = 'male'\n",
    "age = 23\n",
    "siblings = 3\n",
    "\n",
    "# А здесь напишите свой код с условиями:\n"
   ]
  },
  {
   "cell_type": "markdown",
   "metadata": {},
   "source": [
    "<p>\n",
    "<details>\n",
    "\n",
    "<summary> Тут вариант решения, кликни, если хочешь посмотреть, но сначала попробуй самостоятельно </summary>\n",
    "\n",
    "```python\n",
    "if sex == 'male':\n",
    "    if age > 9.5:\n",
    "        print('Умер')\n",
    "    else:\n",
    "        if siblings > 2.5:\n",
    "            print('Умер')\n",
    "        else:\n",
    "            print('Выжил')\n",
    "else:\n",
    "    print('Выжил')\n",
    "```\n",
    "\n",
    "</details>\n",
    "</p>"
   ]
  },
  {
   "cell_type": "markdown",
   "metadata": {},
   "source": [
    "**Циклы**"
   ]
  },
  {
   "cell_type": "markdown",
   "metadata": {},
   "source": [
    "Циклы &mdash; структуры, позволяющие многократно выполнять один и тот же код для разных условий.\\\n",
    "Два представления циклов в `python` это циклы for и циклы while.\n",
    "\n",
    "Логика циклов `for` такова:\n",
    "\n",
    "```python\n",
    "for переменная in некий массив значений:\n",
    "    код, который нужно выполнить\n",
    "```\n",
    "\n",
    "Здесь переменной будут присваиваться последовательно все значения из массива, и для них будет выполняться заданный код."
   ]
  },
  {
   "cell_type": "code",
   "execution_count": null,
   "metadata": {},
   "outputs": [],
   "source": [
    "# после слова for идет переменная, которая будет последовательно принимать значения от 0 до 9\n",
    "# в данном случае переменная называется i, но это может быть любое имя\n",
    "# range - объект python, который возвращает последовательность чисел\n",
    "# первое значение в скобках в range - начало последовательности\n",
    "# второе - конец последовательности (не включая его)\n",
    "for i in range(0, 10):\n",
    "    print(i)"
   ]
  },
  {
   "cell_type": "markdown",
   "metadata": {},
   "source": [
    "Логика циклов `while`:\n",
    "```python\n",
    "while условие, которое должно когда-то нарушиться:\n",
    "    код, который выполняется до нарушения условия\n",
    "```"
   ]
  },
  {
   "cell_type": "code",
   "execution_count": null,
   "metadata": {},
   "outputs": [],
   "source": [
    "i = 0\n",
    "while i < 10:\n",
    "    print(i)\n",
    "    i += 1"
   ]
  },
  {
   "cell_type": "markdown",
   "metadata": {},
   "source": [
    "Далее мы будем в основном пользоваться циклами for, так как они позволяют довольно просто работать с массивами."
   ]
  },
  {
   "cell_type": "code",
   "execution_count": null,
   "metadata": {},
   "outputs": [],
   "source": [
    "names = ['Bunny','Duck','Pig']\n",
    "for name in names:\n",
    "    print(name)"
   ]
  },
  {
   "cell_type": "markdown",
   "metadata": {},
   "source": [
    "Внутри циклов можно выполнять довольно сложные операции и модернизировать внешние переменные."
   ]
  },
  {
   "cell_type": "code",
   "execution_count": null,
   "metadata": {},
   "outputs": [],
   "source": [
    "numbers = [1, 2, 3, 4, 5, 6, 7, 8, 9, 10]\n",
    "sum_of_squares = 0\n",
    "for num in numbers:\n",
    "    sum_of_squares += num ** 2\n",
    "print(sum_of_squares)"
   ]
  },
  {
   "cell_type": "markdown",
   "metadata": {},
   "source": [
    "> *Задание. Математическое.*\\\n",
    "Напишите цикл, который считает факториал для заданного значения n."
   ]
  },
  {
   "cell_type": "code",
   "execution_count": null,
   "metadata": {},
   "outputs": [],
   "source": [
    "n = 5\n",
    "\n",
    "# ВАШ КОД ЗДЕСЬ"
   ]
  },
  {
   "cell_type": "markdown",
   "metadata": {},
   "source": [
    "<p>\n",
    "<details>\n",
    "<summary>Тут вариант решения, кликни, если хочешь посмотреть, но сначала попробуй самостоятельно.</summary>\n",
    "\n",
    "```python\n",
    "factorial = 1\n",
    "for num in range(1, n+1):\n",
    "    factorial *= num\n",
    "print(factorial)\n",
    "```\n",
    "</details>\n",
    "</p>"
   ]
  },
  {
   "cell_type": "markdown",
   "metadata": {},
   "source": [
    "На этом мы заканчиваем блок с базовыми вещами и переходим к обработке данных лабораторной работы.\n",
    "\n",
    "Он состоит из коротких блоков с использованием конкретных функций конкретных модулей Python.\\\n",
    "Дальнейшее повествование не претендует на полноту, погружаться глубже вам придется самостоятельно."
   ]
  },
  {
   "cell_type": "markdown",
   "metadata": {},
   "source": [
    "#### **Блок 1.5. Модули Python.**"
   ]
  },
  {
   "cell_type": "markdown",
   "metadata": {},
   "source": [
    "\n",
    "Модули - важная часть работы с любыми данными. Модули - это блоки кода, написанные другими людьми,\\\n",
    "которые можно установить на своей машине и использовать в своем `Python`, как свои.\n",
    "\n",
    "Это огромная библиотека различных функций, методов и решений для самых разных прикладных задач,\\\n",
    "начиная с модулей для создания интерфейсов для сайтов и заканчивая функциями для расчета энергетических спектров\\\n",
    "рентгеновских двойных систем в космосе.\n",
    "\n",
    "Сегодня мы будем использовать 4 таких модуля:\n",
    "- `Pandas`: работа с таблицами, выгрузка данных из excel файлов;\n",
    "- `Matploltib`: рисование графиков;\n",
    "- `NumPy`: очень эффективная работа с массивами данных;\n",
    "\n",
    "Сначала убедимся, что все эти модули уже скачаны и установлены в нашем Python:"
   ]
  },
  {
   "cell_type": "code",
   "execution_count": null,
   "metadata": {},
   "outputs": [],
   "source": [
    "!pip install pandas matplotlib numpy openpyxl"
   ]
  },
  {
   "cell_type": "markdown",
   "metadata": {},
   "source": [
    "В дальнейшем для установки и скачивания модулей для своего Python рекомендуется использовать консоль и виртуальные окружения,\\\n",
    "однако это тема для отдельного разговора на ваших парах по программированию.\n",
    "\n",
    "Сейчас включим только что скачанные модули в свой Jupyter Notebook:"
   ]
  },
  {
   "cell_type": "markdown",
   "metadata": {},
   "source": [
    "Для включения модулей в проект используются ключевые слова:\n",
    "```python\n",
    "import pandas\n",
    "```\n",
    "\n",
    "Если мы хотим в дальнейшем обращаться к функциям из этого модуля, мы должны будем писать:\n",
    "```python\n",
    "pandas.read_csv()\n",
    "```\n",
    "\n",
    "Для экономии времени и улучшения читаемости кода подгруженным модулям дают короткое имя:\n",
    "```python\n",
    "import pandas as pd\n",
    "\n",
    "pd.read_csv()\n",
    "```\n",
    "\n",
    "Можно вместо всего модуля импортировать только его часть:\n",
    "```python\n",
    "import matplotlib.pyplot as plt\n",
    "```\n",
    "\n"
   ]
  },
  {
   "cell_type": "code",
   "execution_count": null,
   "metadata": {},
   "outputs": [],
   "source": [
    "import pandas as pd\n",
    "import numpy as np\n",
    "\n",
    "import matplotlib.pyplot as plt\n",
    "\n",
    "# Этот блок кода задает размер графиков от matplotlib\n",
    "plt.rcParams['figure.figsize'] = (12, 10)\n",
    "plt.rcParams['font.size'] = 14"
   ]
  },
  {
   "cell_type": "markdown",
   "metadata": {},
   "source": [
    "#### **Блок 2. Обработка данных счетчика Гейгера.**"
   ]
  },
  {
   "cell_type": "markdown",
   "metadata": {},
   "source": [
    "##### **`Pandas`. «У меня все данные в экселе, что делать?»**"
   ]
  },
  {
   "cell_type": "markdown",
   "metadata": {},
   "source": [
    "Для работы с данными из Excel в модуле `pandas` можно использовать функцию `read_excel()`, которая вернет таблицу с данными из эксель-файла.\n",
    "\n",
    "Кроме того, `pandas` умеет читать и другие текстовые форматы, в которых представляются таблицы, например, `.csv` файлы.\n",
    "\n",
    "Для использования этих функций в режиме по умолчания достаточно передать строку пути до нужного файла.\\\n",
    "В данном случае файлы находятся в одной папке с ноутбуком, поэтому просто указываем названием файла."
   ]
  },
  {
   "cell_type": "code",
   "execution_count": null,
   "metadata": {},
   "outputs": [],
   "source": [
    "geiger_data = pd.read_excel('data/Exp_data_Geiger.xlsx')"
   ]
  },
  {
   "cell_type": "markdown",
   "metadata": {},
   "source": [
    "Посмотрим, как выглядят только что загруженная нами таблица:"
   ]
  },
  {
   "cell_type": "code",
   "execution_count": null,
   "metadata": {},
   "outputs": [],
   "source": [
    "geiger_data"
   ]
  },
  {
   "cell_type": "markdown",
   "metadata": {},
   "source": [
    "Первый файл содержит результаты измерений счетчика Гейгера за 4000 секунд.\\\n",
    "Число отсчетов, записанное в каждую секунду, находится в столбце Exp_data. Обратимся к нему напрямую:"
   ]
  },
  {
   "cell_type": "code",
   "execution_count": null,
   "metadata": {},
   "outputs": [],
   "source": [
    "geiger_data['Exp_data']"
   ]
  },
  {
   "cell_type": "markdown",
   "metadata": {},
   "source": [
    "Посмотрим, какие уникальные значения есть в этой таблице. Для этого используем функцию `unique`:"
   ]
  },
  {
   "cell_type": "code",
   "execution_count": null,
   "metadata": {},
   "outputs": [],
   "source": [
    "pd.unique(geiger_data['Exp_data'])"
   ]
  },
  {
   "cell_type": "markdown",
   "metadata": {},
   "source": [
    "Видим, что каждую секунду мы видим целое число отсчетов, значит данные переданы верно, и мы можем продолжать наш анализ."
   ]
  },
  {
   "cell_type": "markdown",
   "metadata": {},
   "source": [
    "##### **`Matplotlib`. Как построить красивый график.**"
   ]
  },
  {
   "cell_type": "markdown",
   "metadata": {},
   "source": [
    "Для работы с данными мощным инструментом является графическое представление.\\\n",
    "Попробуем представить наши данные в виде гистограммы: изобразим, в сколько отрезков по 1 секунде попало по N отсчетов.\n",
    "\n",
    "Для этого воспользуемся функцией `plt.hist()`."
   ]
  },
  {
   "cell_type": "code",
   "execution_count": null,
   "metadata": {},
   "outputs": [],
   "source": [
    "plt.hist(geiger_data['Exp_data'], bins=range(0, 10, 1))\n",
    "plt.show()"
   ]
  },
  {
   "cell_type": "markdown",
   "metadata": {},
   "source": [
    "Функция `plt.hist()` подсчитывает, сколько раз в данных встретилось значение из какого-то интервала.\\\n",
    "В нашем примере мы подсчитали, что в интервал от 0 до 1 отсчета попало примерно 1200 строк,\\\n",
    "от 1 до 2 около 1400 и т.д.\n",
    "\n",
    "Разбиение на интервалы контролируется аргументом `bins`, в который можно передать разные массивы, задающие\\\n",
    "границы интервалов.\n",
    "\n",
    "Нам, однако, необходимо сравнивать разные гистограммы друг с другом, поэтому необходимо привести значения по оси Y\\\n",
    "к нормализованным величинам вероятности обнаружить значение из интервала. Для этого добавим в функцию аргумент density:\n",
    "\n",
    "```python\n",
    "plt.hist(..., density = True)\n",
    "```\n",
    "\n",
    "Подробнее информацию про все возможные параметры при построении гистограммы можно посмотреть [здесь](https://matplotlib.org/stable/api/_as_gen/matplotlib.pyplot.hist.html)."
   ]
  },
  {
   "cell_type": "code",
   "execution_count": null,
   "metadata": {},
   "outputs": [],
   "source": [
    "plt.hist(geiger_data['Exp_data'], bins=range(0, 10, 1), density=True)\n",
    "plt.show()"
   ]
  },
  {
   "cell_type": "markdown",
   "metadata": {},
   "source": [
    "Работать с графиками в таком режиме удобно, но для полноты представления необходимо добавить подписи к осям и легенду графика:\n",
    "\n",
    "Для подписей и названия графика можно использовать функции `plt.xlabel()`, `plt.ylabel()` и `plt.title()`, в которые\\\n",
    "передается строка с названием.\n",
    "\n",
    "Для создания легенды необходимо сделать 2 вещи: дать название `label` графикам и вызвать функцию, которая рисует легенду\\\n",
    "`plt.legend()`.\n",
    "\n",
    "Попробуем сделать это на примере графика выше:"
   ]
  },
  {
   "cell_type": "code",
   "execution_count": null,
   "metadata": {},
   "outputs": [],
   "source": [
    "plt.hist(geiger_data['Exp_data'], bins=range(0, 10, 1), label='Geiger data, 1 sec', density=True)\n",
    "\n",
    "plt.xlabel('Число отсчетов')\n",
    "plt.ylabel('Доля случаев')\n",
    "\n",
    "plt.legend()\n",
    "\n",
    "plt.show()"
   ]
  },
  {
   "cell_type": "markdown",
   "metadata": {},
   "source": [
    "Следующим пунктом, нам необходимо построить такую гистограмму для интервалов большей продолжительности.\\\n",
    "Попробуем это сделать для интервала в 10 секунд при помощи модуля `NumPy`:"
   ]
  },
  {
   "cell_type": "markdown",
   "metadata": {},
   "source": [
    "##### **`NumPy`. Гоняем цифры туда-сюда.**"
   ]
  },
  {
   "cell_type": "markdown",
   "metadata": {},
   "source": [
    "Модуль `NumPy` используется для работы с массивами данных, для которых нужно проводить множество однотипных поэлементных операций.\n",
    "\n",
    "В нашем случае необходимо изначальный массив данных в 4000 строк разбить на подмассивы по 10 строк (10 секунд) и просуммировать число отсчетов в каждом из них. В результате мы получим новый массив из 400 значений для которого можно построить такую же гистограмму.\n",
    "\n",
    "Для работы с модулем `NumPy` необходимо сначала представить свои данные в виде специального типа numpy-массива: "
   ]
  },
  {
   "cell_type": "code",
   "execution_count": null,
   "metadata": {},
   "outputs": [],
   "source": [
    "np_data = np.array(geiger_data['Exp_data'])\n",
    "np_data"
   ]
  },
  {
   "cell_type": "markdown",
   "metadata": {},
   "source": [
    "Теперь разделим один длинный массив элементов на маленькие подмассивы по 10 элементов.\\\n",
    "Для этого воспользуемся функцией `np.reshape()`:\\\n",
    "Она принимает массив, который мы хотим изменить и размер, который мы хотим получить на выходе.\n",
    "\n",
    "В данном случае мы хотим получить 2-мерный массив из 400 строк и 10 столбцов.\\\n",
    "Каждая строчка массива содержит 10 значений, соответствующих числу отсчетов за 10 секунд."
   ]
  },
  {
   "cell_type": "code",
   "execution_count": null,
   "metadata": {},
   "outputs": [],
   "source": [
    "reshaped_data = np.reshape(np_data, (400, 10))\n",
    "\n",
    "print(reshaped_data.shape)\n",
    "reshaped_data"
   ]
  },
  {
   "cell_type": "markdown",
   "metadata": {},
   "source": [
    "Если у вас много строк в массиве (как у нас 4000), но вы точно знаете, что вам нужно 10 столбцов и не хотите считать необходимое количество строк вручную, то `python` может подобрать число строк автоматически. Для этого вместа числа 400 в ячейке выше напишем -1 и убедимся, что получим то же самое:"
   ]
  },
  {
   "cell_type": "code",
   "execution_count": null,
   "metadata": {},
   "outputs": [],
   "source": [
    "reshaped_data = np.reshape(np_data, (-1, 10))\n",
    "\n",
    "print(reshaped_data.shape)\n",
    "reshaped_data"
   ]
  },
  {
   "cell_type": "markdown",
   "metadata": {},
   "source": [
    "Посмотрим на нулевую строку и нулевой столбец получившегося двумерного массива:"
   ]
  },
  {
   "cell_type": "code",
   "execution_count": null,
   "metadata": {},
   "outputs": [],
   "source": [
    "print(reshaped_data[0])\n",
    "reshaped_data[:,0]"
   ]
  },
  {
   "cell_type": "markdown",
   "metadata": {},
   "source": [
    "Теперь просуммируем число отсчетов в каждом интервале по 10 секунд"
   ]
  },
  {
   "cell_type": "code",
   "execution_count": null,
   "metadata": {},
   "outputs": [],
   "source": [
    "sum_data = np.sum(reshaped_data, 1) # 0 суммирует столбцы, 1 - строки\n",
    "sum_data"
   ]
  },
  {
   "cell_type": "markdown",
   "metadata": {},
   "source": [
    "Построим новую гистограмму уже для разбиения не по 1, а по 10 секунд"
   ]
  },
  {
   "cell_type": "code",
   "execution_count": null,
   "metadata": {},
   "outputs": [],
   "source": [
    "plt.hist(geiger_data['Exp_data'], bins=range(0, 50, 1), label='Geiger data, 1 sec', density=True)\n",
    "plt.hist(sum_data, bins=range(0, 50, 1), label='Geiger data, 10 sec', density=True)\n",
    "\n",
    "plt.xlabel('Число отсчетов')\n",
    "plt.ylabel('Доля случаев')\n",
    "\n",
    "plt.legend()\n",
    "\n",
    "plt.show()"
   ]
  },
  {
   "cell_type": "markdown",
   "metadata": {},
   "source": [
    "Помимо удобных функций и возможности переделывать массивы в разные формы, `NumPy`-массивы отличаются от обычных списков тем,\\\n",
    "что для них можно очень просто делать поэлементные операции.\n",
    "\n",
    "Сравним получение списка квадратов чисел для обычного списка и массива из NumPy.\n",
    "\n",
    "**Обычный список**:"
   ]
  },
  {
   "cell_type": "code",
   "execution_count": null,
   "metadata": {},
   "outputs": [],
   "source": [
    "my_list = [1, 2, 3, 4, 5, 6, 7]\n",
    "\n",
    "my_new_list = [] # создаем пустой список для записи элементов\n",
    "\n",
    "for number in my_list:\n",
    "    my_new_list.append(number ** 2)  # append используется для того, чтобы добавить значение к списку справа\n",
    "\n",
    "print(my_new_list)"
   ]
  },
  {
   "cell_type": "markdown",
   "metadata": {},
   "source": [
    "Гораздо удобнее было бы сказать нашему коду сделать какую-то операцию с каждым элементом списка.\\\n",
    "Например, вот так:"
   ]
  },
  {
   "cell_type": "code",
   "execution_count": null,
   "metadata": {},
   "outputs": [],
   "source": [
    "my_list ** 2"
   ]
  },
  {
   "cell_type": "markdown",
   "metadata": {},
   "source": [
    "Но это вызывает ошибку, потому что в стандартные списки Python этот функционал не добавлен.\n",
    "\n",
    "На помощь приходит NumPy-массив. Попробуем сделать то же самое для него:"
   ]
  },
  {
   "cell_type": "code",
   "execution_count": null,
   "metadata": {},
   "outputs": [],
   "source": [
    "my_np_list = np.array(my_list)\n",
    "print(my_np_list)\n",
    "\n",
    "my_new_np_list = my_np_list ** 2 \n",
    "print(my_new_np_list)"
   ]
  },
  {
   "cell_type": "markdown",
   "metadata": {},
   "source": [
    "Кроме того, можно проводить поэлементные операции между массивами одного размера:"
   ]
  },
  {
   "cell_type": "code",
   "execution_count": null,
   "metadata": {},
   "outputs": [],
   "source": [
    "print(my_np_list + my_new_np_list)"
   ]
  },
  {
   "cell_type": "markdown",
   "metadata": {},
   "source": [
    "Итак, для NumPy-массивов можно выполнять математические операции поэлементно, просто\\\n",
    "прописывая эти операции с массивом, как если бы это была обычная переменная-число.\n",
    "\n",
    "Таким образом, используя функции NumPy и математические символы можно писать довольно сложные функции,\\\n",
    "которые удобно использовать для рисования графиков:\n",
    "\n",
    "Пусть у нас есть массив значений по X и функция Y(X), которую мы хотим нарисовать.\\\n",
    "Тогда для получения значений по Y нам достаточно передать в функцию весь массив X и все.\n",
    "\n",
    "Попробуем это сделать на примере функции для расчета вероятностей для распределения Пуассона."
   ]
  },
  {
   "cell_type": "code",
   "execution_count": null,
   "metadata": {},
   "outputs": [],
   "source": [
    "from math import gamma\n",
    "\n",
    "# ЭТО ФУНКЦИЯ НЕПРИЯТНОГО ВИДА ДЛЯ РАСЧЕТА ФАКТОРИАЛА БЕЗ СПЕЦИАЛЬНЫХ БИБЛИОТЕК\n",
    "def factorial(array):\n",
    "    return np.array([gamma(val+1) for val in array])\n",
    "\n",
    "# НАС ИНТЕРЕСУЕТ ТОЛЬКО ФУНКЦИЯ С РАСПРЕДЕЛЕНИЕМ ПУАССОНА\n",
    "def poisson(n, expected): # Expected -- это аргумент, задающий мат.ожидания распределения\n",
    "    return expected ** n / factorial(n) * np.exp(-expected)"
   ]
  },
  {
   "cell_type": "code",
   "execution_count": null,
   "metadata": {},
   "outputs": [],
   "source": [
    "x_values = np.arange(0, 50, 0.1) # Создадим массив значений от 0 до 50 с шагом в 0.1\n",
    "expected_value = np.mean(sum_data)\n",
    "\n",
    "y_values = poisson(x_values, expected_value)\n",
    "\n",
    "print(y_values)"
   ]
  },
  {
   "cell_type": "markdown",
   "metadata": {},
   "source": [
    "Для отрисовки полученной зависимости нарисуем график при помощи `plt.plot()`.\n",
    "\n",
    "Он принимает массивы x и y, а затем рисует ломаную линию по координатам\\\n",
    "x[0], y[0] -> x[1], y[1] -> ... \n",
    "\n",
    "Нарисуем такую линию для полученного распределения:"
   ]
  },
  {
   "cell_type": "code",
   "execution_count": null,
   "metadata": {},
   "outputs": [],
   "source": [
    "plt.hist(geiger_data['Exp_data'], bins=range(0, 50, 1), label='Geiger data, 1 sec', density=True)\n",
    "plt.hist(sum_data, bins=range(0, 50, 1), label='Geiger data, 10 sec', density=True)\n",
    "\n",
    "plt.plot(x_values, y_values, label='Poisson distribution for 10 sec')\n",
    "\n",
    "plt.xlabel('Число отсчетов')\n",
    "plt.ylabel('Доля случаев')\n",
    "\n",
    "plt.legend()\n",
    "\n",
    "plt.show()"
   ]
  },
  {
   "cell_type": "markdown",
   "metadata": {},
   "source": [
    "> *Задание. Группировка.*\\\n",
    "Создайте новый массив, в котором данные сгруппированы по 20 секунд.\\\n",
    "Нарисуйте гистограмму полученного набора на графике вместе с двумя предыдущими."
   ]
  },
  {
   "cell_type": "code",
   "execution_count": null,
   "metadata": {},
   "outputs": [],
   "source": [
    "# ВАШ КОД ЗДЕСЬ"
   ]
  },
  {
   "cell_type": "code",
   "execution_count": null,
   "metadata": {},
   "outputs": [],
   "source": [
    "# ВАШ КОД ЗДЕСЬ. РИСУЕМ РЕЗУЛЬТАТ"
   ]
  },
  {
   "cell_type": "markdown",
   "metadata": {},
   "source": [
    "<p>\n",
    "<details>\n",
    "<summary>Вариант решения, кликни, если хочешь посмотреть, но сначала попробуй самостоятельно.</summary>\n",
    "\n",
    "```python\n",
    "sum20_data = np.sum(np.reshape(np_data, (-1, 20)), 1)\n",
    "\n",
    "plt.hist(geiger_data['Exp_data'], bins=range(0, 50, 1), label='Geiger data, 1 sec', density=True)\n",
    "plt.hist(sum_data, bins=range(0, 50, 1), label='Geiger data, 10 sec', density=True)\n",
    "plt.hist(sum20_data, bins=range(0, 50, 1), label='Geiger data, 20 sec', density=True)\n",
    "\n",
    "plt.plot(x_values, y_values, label='Poisson distribution for 10 sec')\n",
    "\n",
    "plt.xlabel('Число отсчетов')\n",
    "plt.ylabel('Доля случаев')\n",
    "\n",
    "plt.legend()\n",
    "\n",
    "plt.show()\n",
    "```\n",
    "</details>\n",
    "</p>"
   ]
  },
  {
   "cell_type": "markdown",
   "metadata": {},
   "source": [
    "> *Задание. Нормальное.*\\\n",
    "Допишите функцию, которая описывает плотность вероятности [нормального распределения](https://ru.wikipedia.org/wiki/%D0%9D%D0%BE%D1%80%D0%BC%D0%B0%D0%BB%D1%8C%D0%BD%D0%BE%D0%B5_%D1%80%D0%B0%D1%81%D0%BF%D1%80%D0%B5%D0%B4%D0%B5%D0%BB%D0%B5%D0%BD%D0%B8%D0%B5).\\\n",
    "Нарисуйте ее на графике для третьей гистограммы.\n",
    "\n",
    "Подсказка:\\\n",
    "Для вычисления квадратного корня используйте функцию `np.sqrt()`,\\\n",
    "для вычисления экспоненты -- функцию `np.exp()`,\\\n",
    "для вычисления числа пи -- переменную `np.pi`"
   ]
  },
  {
   "cell_type": "code",
   "execution_count": null,
   "metadata": {},
   "outputs": [],
   "source": [
    "def gaussian(x, expected, sigma):\n",
    "    # МЕСТО ДЛЯ ВАШЕГО КОДА\n",
    "\n",
    "    return # И ЭТО ТОЖЕ"
   ]
  },
  {
   "cell_type": "markdown",
   "metadata": {},
   "source": [
    "<p>\n",
    "<details>\n",
    "<summary>Вариант решения, кликни, если хочешь посмотреть, но сначала попробуй самостоятельно.</summary>\n",
    "\n",
    "```python\n",
    "def gaussian(x, expected, sigma):\n",
    "    return 1 / (sigma * np.sqrt(2 * np.pi)) * np.exp(-0.5 * ((x-expected)/sigma) ** 2)\n",
    "```\n",
    "</details>\n",
    "</p>"
   ]
  },
  {
   "cell_type": "code",
   "execution_count": null,
   "metadata": {},
   "outputs": [],
   "source": [
    "# МЕСТО ДЛЯ ВАШЕГО КОДА, НАРИСУЕМ РЕЗУЛЬТАТ"
   ]
  },
  {
   "cell_type": "markdown",
   "metadata": {},
   "source": [
    "<p>\n",
    "<details>\n",
    "<summary>Вариант решения, кликни, если хочешь посмотреть, но сначала попробуй самостоятельно.</summary>\n",
    "\n",
    "```python\n",
    "# Значение sigma выбиралось из предположения, что при больших n распределение Пуассона сводится к Гауссовому,\n",
    "# следовательно sigma будет таким же, как в распределении Пуассона\n",
    "y_values_20 = gaussian(x_values, np.mean(sum20_data), np.sqrt(np.mean(sum20_data)))\n",
    "\n",
    "plt.hist(geiger_data['Exp_data'], bins=range(0, 50, 1), label='Geiger data, 1 sec', density=True)\n",
    "plt.hist(sum_data, bins=range(0, 50, 1), label='Geiger data, 10 sec', density=True)\n",
    "plt.hist(sum20_data, bins=range(0, 50, 1), label='Geiger data, 20 sec', density=True)\n",
    "\n",
    "plt.plot(x_values, y_values, label='Poisson distribution for 10 sec')\n",
    "plt.plot(x_values, y_values_20, label='Gaussian distribution for 20 sec')\n",
    "\n",
    "plt.xlabel('Число отсчетов')\n",
    "plt.ylabel('Доля случаев')\n",
    "\n",
    "plt.legend()\n",
    "\n",
    "plt.show()\n",
    "```\n",
    "</details>\n",
    "</p>\n",
    "\n"
   ]
  },
  {
   "cell_type": "markdown",
   "metadata": {},
   "source": [
    "#### **Блок 3. Обработка линейных зависимостей.**"
   ]
  },
  {
   "cell_type": "markdown",
   "metadata": {},
   "source": [
    "Сейчас попробуем обработать еще один набор данных.\\\n",
    "Здесь комментарии сведены к минимуму, чтобы вы могли сами разобраться, что происходит."
   ]
  },
  {
   "cell_type": "markdown",
   "metadata": {},
   "source": [
    "Читаем данные из csv-файла при помощи функции `read_csv()`.\\\n",
    "`index_col` просто задает столбец, в котором указана нумерация таблицы.   "
   ]
  },
  {
   "cell_type": "code",
   "execution_count": null,
   "metadata": {},
   "outputs": [],
   "source": [
    "linear_data = pd.read_csv('data/Exp_data_Linear.csv', index_col=0)\n",
    "\n",
    "linear_data"
   ]
  },
  {
   "cell_type": "markdown",
   "metadata": {},
   "source": [
    "Нарисуем данные. Поскольку мы хотим нарисовать каждую отдельную точку, используем функцию `scatter()`\\\n",
    "Она принимает те же аргументы, что и `plot()`, но рисует сами точки, а не ломаную линию."
   ]
  },
  {
   "cell_type": "code",
   "execution_count": null,
   "metadata": {},
   "outputs": [],
   "source": [
    "plt.scatter(linear_data['X'], linear_data['Y'])\n",
    "plt.xlabel('X')\n",
    "plt.ylabel('Y')\n",
    "plt.grid() # Добавляет сетку\n",
    "plt.show()"
   ]
  },
  {
   "cell_type": "markdown",
   "metadata": {},
   "source": [
    "Предположим теперь, что это данные с настоящего эксперимента, и мы знаем **погрешности приборов**, которыми померены\\\n",
    "значения X и Y."
   ]
  },
  {
   "cell_type": "code",
   "execution_count": null,
   "metadata": {},
   "outputs": [],
   "source": [
    "err_X = 0.01\n",
    "err_Y = 0.1"
   ]
  },
  {
   "cell_type": "markdown",
   "metadata": {},
   "source": [
    "Тогда их тоже можно нанести на график, но используя другую функцию:\n",
    "`plt.errorbar(X, Y, errY, errX, ...)`\n",
    "\n",
    "Обратите внимание, что здесь мы также задаем формат отображения\\\n",
    "аргументом `fmt`. `fmt = '.'` значит, что мы хотим рисовать график только точками.\\\n",
    "Попробуйте убрать этот аргумент и посмотреть, что изменится."
   ]
  },
  {
   "cell_type": "code",
   "execution_count": null,
   "metadata": {},
   "outputs": [],
   "source": [
    "plt.errorbar(linear_data['X'], linear_data['Y'], err_Y, err_X, fmt='.')\n",
    "plt.grid()\n",
    "plt.show()"
   ]
  },
  {
   "cell_type": "markdown",
   "metadata": {},
   "source": [
    "Теперь попробуем провести прямую через эти данные по МНК и оценить коэффициент наклона.\n",
    "\n",
    "> *Задача. Матстатическая.*\\\n",
    "Допишите функцию вычисления МНК и ошибки по МНК в соответствии с указанием из ваших методических материалов.\n",
    "\n",
    "Подсказка: для вычисления среднего можно использовать функцию `np.mean()`\n",
    "\n",
    "**Внимание!** Данные для данной задачи подобрадны для частного случая линейной зависимости, проходящей через начало координат *y = kx*. Записать формулы коэффициентов МНК для общего случая *(y = ax+b)* предлагается самостоятельно за рамками данного занятия."
   ]
  },
  {
   "cell_type": "code",
   "execution_count": null,
   "metadata": {},
   "outputs": [],
   "source": [
    "def least_squares(x, y):\n",
    "    coeff = # МЕСТО ДЛЯ ВАШЕГО КОДА\n",
    "    err = 1 / np.sqrt(len(x)) * np.sqrt((y*y).mean() / (x*x).mean() - coeff ** 2)\n",
    "    return coeff, err"
   ]
  },
  {
   "cell_type": "markdown",
   "metadata": {},
   "source": [
    "<p>\n",
    "<details>\n",
    "<summary>Вариант решения, кликни, если хочешь посмотреть.</summary>\n",
    "\n",
    "```python\n",
    "def least_squares(x, y):\n",
    "    coeff = np.mean(x*y) / np.mean(x*x)\n",
    "    err = 1 / np.sqrt(len(x)) * np.sqrt((y*y).mean() / (x*x).mean() - coeff ** 2)\n",
    "    return coeff, err\n",
    "```\n",
    "</details>\n",
    "</p>"
   ]
  },
  {
   "cell_type": "markdown",
   "metadata": {},
   "source": [
    "Теперь при помощи этой функции вычислим коэффициент наклона графика и ошибку на него."
   ]
  },
  {
   "cell_type": "code",
   "execution_count": null,
   "metadata": {},
   "outputs": [],
   "source": [
    "coeff, err = least_squares(linear_data['X'], linear_data['Y'])\n",
    "\n",
    "print(coeff, err)"
   ]
  },
  {
   "cell_type": "code",
   "execution_count": null,
   "metadata": {},
   "outputs": [],
   "source": [
    "plt.errorbar(linear_data['X'], linear_data['Y'], err_Y, err_X, fmt='.')\n",
    "\n",
    "plt.plot(linear_data['X'], coeff * linear_data['X'], color='tab:red')\n",
    "\n",
    "plt.xlabel('X')\n",
    "plt.ylabel('Y')\n",
    "plt.show()"
   ]
  },
  {
   "cell_type": "markdown",
   "metadata": {},
   "source": [
    "Таким образом, вы можете получить случайную ошибку измеряемого параметра, а сложив ее квадратично с систематической (~ приборной), получить итоговую ошибку вашего измеряемого параметра."
   ]
  },
  {
   "cell_type": "markdown",
   "metadata": {},
   "source": [
    "### **Подводим итоги.**\n",
    "\n",
    "На сегодня все. Напоминаем, что если у вас остались вопросы, вы хотите узнать больше или прояснить\\\n",
    "отдельные моменты, напишите кому-то из авторов этого материала или спросите у них напрямую, если поймаете.\n",
    "\n",
    "**Радивон Арина Владимировна**:\\\n",
    "[@MsRisha](https://t.me/Ms_Risha)\n",
    "\n",
    "**Мухин Андрей Анатольевич**:\\\n",
    "[@rrousan](https://t.me/rrousan)\n",
    "\n",
    "**P.S.** Если вам будет интересна тема по обработке данных в Python не на базовом уровне, который представлен здесь, а на более продвинутом, который используют в научной работе, то можете посетить семинары Горизонтов Физики ИКИ РАН для 2го курса. Программу курса можно посмотреть [здесь](https://github.com/andrey-rrousan/iki_python_course/tree/v2024). "
   ]
  },
  {
   "cell_type": "markdown",
   "metadata": {},
   "source": [
    "> *Задание. Обратно-связное.*\\\n",
    "Заполните [форму обратной связи](https://forms.gle/yjHqpGoCCWJT7JY97) по этому занятию."
   ]
  }
 ],
 "metadata": {
  "kernelspec": {
   "display_name": "Python 3",
   "language": "python",
   "name": "python3"
  },
  "language_info": {
   "codemirror_mode": {
    "name": "ipython",
    "version": 3
   },
   "file_extension": ".py",
   "mimetype": "text/x-python",
   "name": "python",
   "nbconvert_exporter": "python",
   "pygments_lexer": "ipython3",
   "version": "3.12.11"
  }
 },
 "nbformat": 4,
 "nbformat_minor": 2
}
